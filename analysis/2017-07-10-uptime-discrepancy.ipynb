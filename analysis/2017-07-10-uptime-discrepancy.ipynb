{
 "cells": [
  {
   "cell_type": "markdown",
   "metadata": {},
   "source": [
    "This notebook is trying to compare the uptimes predicted by the two different methods\n",
    "It also hopes to identify the source of discrepancies and determine which is likely to be more accurate."
   ]
  },
  {
   "cell_type": "code",
   "execution_count": 1,
   "metadata": {
    "collapsed": false
   },
   "outputs": [
    {
     "name": "stdout",
     "output_type": "stream",
     "text": [
      "11100720 second 11100720.0 second\n",
      "6798720 second 6798720.0 second\n",
      "10719240 second 10719240.0 second\n",
      "11010180 second 11010180.0 second\n",
      "8829600 second 8829600.0 second\n"
     ]
    },
    {
     "data": {
      "text/html": [
       "<div>\n",
       "<table border=\"1\" class=\"dataframe\">\n",
       "  <thead>\n",
       "    <tr style=\"text-align: right;\">\n",
       "      <th></th>\n",
       "      <th>uptime percentage by timestamp gap</th>\n",
       "    </tr>\n",
       "  </thead>\n",
       "  <tbody>\n",
       "    <tr>\n",
       "      <th>ajau</th>\n",
       "      <td>0.956262</td>\n",
       "    </tr>\n",
       "    <tr>\n",
       "      <th>asei</th>\n",
       "      <td>0.913575</td>\n",
       "    </tr>\n",
       "    <tr>\n",
       "      <th>atamali</th>\n",
       "      <td>0.189092</td>\n",
       "    </tr>\n",
       "    <tr>\n",
       "      <th>ayapo</th>\n",
       "      <td>0.231070</td>\n",
       "    </tr>\n",
       "    <tr>\n",
       "      <th>kensio</th>\n",
       "      <td>0.089026</td>\n",
       "    </tr>\n",
       "  </tbody>\n",
       "</table>\n",
       "</div>"
      ],
      "text/plain": [
       "         uptime percentage by timestamp gap\n",
       "ajau                               0.956262\n",
       "asei                               0.913575\n",
       "atamali                            0.189092\n",
       "ayapo                              0.231070\n",
       "kensio                             0.089026"
      ]
     },
     "execution_count": 1,
     "metadata": {},
     "output_type": "execute_result"
    }
   ],
   "source": [
    "import pandas as pd\n",
    "import WP19_analysis as wpa\n",
    "import numpy as np\n",
    "\n",
    "output = {}\n",
    "for rdf in wpa.raw_file_data:\n",
    "    input_file = rdf['village_name'] + '-clean.csv'\n",
    "    energy_data = pd.read_csv(input_file, index_col=0, parse_dates=True)\n",
    "    output[rdf['village_name']] = {'uptime percentage by timestamp gap': wpa.get_uptime_timestamps(energy_data).magnitude}\n",
    "\n",
    "pd.DataFrame(output).T"
   ]
  },
  {
   "cell_type": "code",
   "execution_count": 2,
   "metadata": {
    "collapsed": false
   },
   "outputs": [
    {
     "data": {
      "text/html": [
       "<div>\n",
       "<table border=\"1\" class=\"dataframe\">\n",
       "  <thead>\n",
       "    <tr style=\"text-align: right;\">\n",
       "      <th></th>\n",
       "      <th>downtime</th>\n",
       "      <th>total duration</th>\n",
       "      <th>uptime by message gap</th>\n",
       "    </tr>\n",
       "  </thead>\n",
       "  <tbody>\n",
       "    <tr>\n",
       "      <th>ajau</th>\n",
       "      <td>102.056111</td>\n",
       "      <td>3083.533333</td>\n",
       "      <td>0.966903</td>\n",
       "    </tr>\n",
       "    <tr>\n",
       "      <th>asei</th>\n",
       "      <td>101.501389</td>\n",
       "      <td>1888.533333</td>\n",
       "      <td>0.946254</td>\n",
       "    </tr>\n",
       "    <tr>\n",
       "      <th>atamali</th>\n",
       "      <td>2003.236389</td>\n",
       "      <td>2977.566667</td>\n",
       "      <td>0.327224</td>\n",
       "    </tr>\n",
       "    <tr>\n",
       "      <th>ayapo</th>\n",
       "      <td>2055.485278</td>\n",
       "      <td>3058.383333</td>\n",
       "      <td>0.327918</td>\n",
       "    </tr>\n",
       "    <tr>\n",
       "      <th>kensio</th>\n",
       "      <td>2053.530833</td>\n",
       "      <td>2452.666667</td>\n",
       "      <td>0.162735</td>\n",
       "    </tr>\n",
       "  </tbody>\n",
       "</table>\n",
       "</div>"
      ],
      "text/plain": [
       "            downtime  total duration  uptime by message gap\n",
       "ajau      102.056111     3083.533333               0.966903\n",
       "asei      101.501389     1888.533333               0.946254\n",
       "atamali  2003.236389     2977.566667               0.327224\n",
       "ayapo    2055.485278     3058.383333               0.327918\n",
       "kensio   2053.530833     2452.666667               0.162735"
      ]
     },
     "execution_count": 2,
     "metadata": {},
     "output_type": "execute_result"
    }
   ],
   "source": [
    "data = {}\n",
    "for rfd in wpa.raw_file_data:\n",
    "    # get durations from message file\n",
    "    messages = wpa.load_message_file(rfd['village_name'] + '-messages.csv')\n",
    "    durations = wpa.get_durations(messages)\n",
    "    # get total duration from time series file\n",
    "    observations = wpa.load_timeseries_file(rfd['village_name'] + '-clean.csv')\n",
    "    total_duration = wpa.get_total_duration(observations)\n",
    "    \n",
    "    data[rfd['village_name']] = {'downtime':durations.sum().values[0],\n",
    "                                 'total duration':total_duration,\n",
    "                                 'uptime by message gap':1-durations.sum().values[0]/total_duration}\n",
    "    \n",
    "pd.DataFrame(data).T"
   ]
  },
  {
   "cell_type": "code",
   "execution_count": 4,
   "metadata": {
    "collapsed": false
   },
   "outputs": [
    {
     "data": {
      "text/html": [
       "<div>\n",
       "<table border=\"1\" class=\"dataframe\">\n",
       "  <thead>\n",
       "    <tr style=\"text-align: right;\">\n",
       "      <th></th>\n",
       "      <th>mess down hours</th>\n",
       "      <th>mess num gaps</th>\n",
       "      <th>total_duration</th>\n",
       "      <th>ts down hours</th>\n",
       "      <th>ts num gaps</th>\n",
       "      <th>ts up hrs</th>\n",
       "      <th>mess up hrs</th>\n",
       "    </tr>\n",
       "  </thead>\n",
       "  <tbody>\n",
       "    <tr>\n",
       "      <th>ajau</th>\n",
       "      <td>102.056111</td>\n",
       "      <td>112.0</td>\n",
       "      <td>3083.533333</td>\n",
       "      <td>134.866667</td>\n",
       "      <td>778.0</td>\n",
       "      <td>2948.666667</td>\n",
       "      <td>2981.477222</td>\n",
       "    </tr>\n",
       "    <tr>\n",
       "      <th>asei</th>\n",
       "      <td>101.501389</td>\n",
       "      <td>119.0</td>\n",
       "      <td>1888.533333</td>\n",
       "      <td>163.216667</td>\n",
       "      <td>215.0</td>\n",
       "      <td>1725.316667</td>\n",
       "      <td>1787.031944</td>\n",
       "    </tr>\n",
       "    <tr>\n",
       "      <th>atamali</th>\n",
       "      <td>2003.236389</td>\n",
       "      <td>98.0</td>\n",
       "      <td>2977.566667</td>\n",
       "      <td>2414.533333</td>\n",
       "      <td>233.0</td>\n",
       "      <td>563.033333</td>\n",
       "      <td>974.330278</td>\n",
       "    </tr>\n",
       "    <tr>\n",
       "      <th>ayapo</th>\n",
       "      <td>2055.485278</td>\n",
       "      <td>243.0</td>\n",
       "      <td>3058.383333</td>\n",
       "      <td>2351.683333</td>\n",
       "      <td>262.0</td>\n",
       "      <td>706.700000</td>\n",
       "      <td>1002.898056</td>\n",
       "    </tr>\n",
       "    <tr>\n",
       "      <th>kensio</th>\n",
       "      <td>2053.530833</td>\n",
       "      <td>48.0</td>\n",
       "      <td>2452.666667</td>\n",
       "      <td>2234.316667</td>\n",
       "      <td>46.0</td>\n",
       "      <td>218.350000</td>\n",
       "      <td>399.135833</td>\n",
       "    </tr>\n",
       "  </tbody>\n",
       "</table>\n",
       "</div>"
      ],
      "text/plain": [
       "         mess down hours  mess num gaps  total_duration  ts down hours  \\\n",
       "ajau          102.056111          112.0     3083.533333     134.866667   \n",
       "asei          101.501389          119.0     1888.533333     163.216667   \n",
       "atamali      2003.236389           98.0     2977.566667    2414.533333   \n",
       "ayapo        2055.485278          243.0     3058.383333    2351.683333   \n",
       "kensio       2053.530833           48.0     2452.666667    2234.316667   \n",
       "\n",
       "         ts num gaps    ts up hrs  mess up hrs  \n",
       "ajau           778.0  2948.666667  2981.477222  \n",
       "asei           215.0  1725.316667  1787.031944  \n",
       "atamali        233.0   563.033333   974.330278  \n",
       "ayapo          262.0   706.700000  1002.898056  \n",
       "kensio          46.0   218.350000   399.135833  "
      ]
     },
     "execution_count": 4,
     "metadata": {},
     "output_type": "execute_result"
    }
   ],
   "source": [
    "def wpa_num_gaps_timestamp(energy_data):\n",
    "    time_gaps = np.diff(energy_data.index.values) / np.timedelta64(1,'s')\n",
    "    time_gaps = pd.Series(time_gaps)\n",
    "    return len(time_gaps[time_gaps > 60.0])\n",
    "\n",
    "def wpa_num_gaps_messages(messages):\n",
    "    power_down = messages[messages['message']=='Power Down']\n",
    "    power_up = messages[messages['message']=='Power Up']\n",
    "\n",
    "    # first message should be a power down\n",
    "    assert (power_down.index[0] < power_up.index[0]), 'first message not power down'\n",
    "    # last message should be a power up\n",
    "    assert (power_down.index[-1] < power_up.index[-1]), 'last message not power up'\n",
    "    # should be same number of up and down messages\n",
    "    assert (len(power_down) == len(power_up)), 'unequal up and down messages'\n",
    "\n",
    "    return len(power_down)\n",
    "\n",
    "def wpa_get_downtime_timestamps(energy_data):\n",
    "    time_gaps = np.diff(energy_data.index.values) / np.timedelta64(1,'s')\n",
    "    time_gaps = pd.Series(time_gaps)\n",
    "    return time_gaps[time_gaps > 60.0].sum()\n",
    "\n",
    "\n",
    "data = {}\n",
    "for rdf in wpa.raw_file_data:\n",
    "    energy_data = wpa.load_timeseries_file(rdf['village_name'] + '-clean.csv')\n",
    "    messages = wpa.load_message_file(rdf['village_name'] + '-messages.csv')\n",
    "    total_duration = wpa.get_total_duration(energy_data)\n",
    "    data[rdf['village_name']] = {'total_duration':total_duration,\n",
    "                                 'ts num gaps':wpa_num_gaps_timestamp(energy_data),\n",
    "                                 'ts down hours':wpa_get_downtime_timestamps(energy_data)/3600,\n",
    "                                'mess num gaps':wpa_num_gaps_messages(messages), \n",
    "                                'mess down hours':wpa.get_durations_messages(messages).sum()[0]}\n",
    "\n",
    "data_table = pd.DataFrame(data).T\n",
    "data_table['ts up hrs'] = data_table['total_duration'] - data_table['ts down hours']\n",
    "data_table['mess up hrs'] = data_table['total_duration'] - data_table['mess down hours']\n",
    "data_table"
   ]
  },
  {
   "cell_type": "markdown",
   "metadata": {},
   "source": [
    "While the downtime hours are within 10-20 percent, I believe this leads to large uptime discrepancies.\n",
    "\n",
    "Also note there are far more timestamp gaps that could be skewing the numbers due to data issues rather than power issues.\n",
    "Maybe I could indentify and gather statistics on these data gaps?\n",
    "\n",
    "Maybe the hours lost on the month borders could lead to this 10-20 percent discrepancy?\n",
    "Can I find the unmatched gaps directly?"
   ]
  },
  {
   "cell_type": "code",
   "execution_count": null,
   "metadata": {
    "collapsed": true
   },
   "outputs": [],
   "source": []
  }
 ],
 "metadata": {
  "kernelspec": {
   "display_name": "Python 3",
   "language": "python",
   "name": "python3"
  },
  "language_info": {
   "codemirror_mode": {
    "name": "ipython",
    "version": 3
   },
   "file_extension": ".py",
   "mimetype": "text/x-python",
   "name": "python",
   "nbconvert_exporter": "python",
   "pygments_lexer": "ipython3",
   "version": "3.4.5"
  }
 },
 "nbformat": 4,
 "nbformat_minor": 0
}
