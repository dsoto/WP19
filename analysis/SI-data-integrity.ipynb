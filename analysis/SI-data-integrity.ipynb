{
 "cells": [
  {
   "cell_type": "markdown",
   "metadata": {},
   "source": [
    "This notebook details the missing data in the microgrid observations.\n",
    "\n",
    "\n",
    "Methods:\n",
    "\n",
    "- what percentage of the sampling range covered for each village by timestamp data?\n",
    "- what percentage is covered when we include on/off messages?\n",
    "\n",
    "TODO:\n",
    "\n",
    "- 2017-07-13 has original work in outline\n",
    "- 2017-07-04 also has related work"
   ]
  },
  {
   "cell_type": "code",
   "execution_count": 1,
   "metadata": {
    "collapsed": true
   },
   "outputs": [],
   "source": [
    "%load_ext autoreload"
   ]
  },
  {
   "cell_type": "code",
   "execution_count": 2,
   "metadata": {
    "collapsed": true
   },
   "outputs": [],
   "source": [
    "%autoreload 2\n",
    "%matplotlib inline\n",
    "\n",
    "import pandas as pd\n",
    "import numpy as np\n",
    "import matplotlib.pyplot as plt\n",
    "import seaborn as sns\n",
    "import WP19_analysis as wpa"
   ]
  },
  {
   "cell_type": "code",
   "execution_count": 3,
   "metadata": {},
   "outputs": [
    {
     "data": {
      "text/html": [
       "<div>\n",
       "<style>\n",
       "    .dataframe thead tr:only-child th {\n",
       "        text-align: right;\n",
       "    }\n",
       "\n",
       "    .dataframe thead th {\n",
       "        text-align: left;\n",
       "    }\n",
       "\n",
       "    .dataframe tbody tr th {\n",
       "        vertical-align: top;\n",
       "    }\n",
       "</style>\n",
       "<table border=\"1\" class=\"dataframe\">\n",
       "  <thead>\n",
       "    <tr style=\"text-align: right;\">\n",
       "      <th></th>\n",
       "      <th>coverage</th>\n",
       "      <th>duration</th>\n",
       "      <th>end_date</th>\n",
       "      <th>expected_samples</th>\n",
       "      <th>num_samples</th>\n",
       "      <th>start_date</th>\n",
       "    </tr>\n",
       "  </thead>\n",
       "  <tbody>\n",
       "    <tr>\n",
       "      <th>atamali</th>\n",
       "      <td>0.190402</td>\n",
       "      <td>124.065</td>\n",
       "      <td>2015-08-26 19:20:00</td>\n",
       "      <td>178654</td>\n",
       "      <td>34016</td>\n",
       "      <td>2015-04-24 17:46:00</td>\n",
       "    </tr>\n",
       "    <tr>\n",
       "      <th>ayapo</th>\n",
       "      <td>0.232503</td>\n",
       "      <td>127.433</td>\n",
       "      <td>2015-08-27 22:17:00</td>\n",
       "      <td>183503</td>\n",
       "      <td>42665</td>\n",
       "      <td>2015-04-22 11:54:00</td>\n",
       "    </tr>\n",
       "    <tr>\n",
       "      <th>kensio</th>\n",
       "      <td>0.0893449</td>\n",
       "      <td>102.194</td>\n",
       "      <td>2015-08-21 22:57:00</td>\n",
       "      <td>147160</td>\n",
       "      <td>13148</td>\n",
       "      <td>2015-05-11 18:17:00</td>\n",
       "    </tr>\n",
       "  </tbody>\n",
       "</table>\n",
       "</div>"
      ],
      "text/plain": [
       "          coverage duration             end_date expected_samples num_samples  \\\n",
       "atamali   0.190402  124.065  2015-08-26 19:20:00           178654       34016   \n",
       "ayapo     0.232503  127.433  2015-08-27 22:17:00           183503       42665   \n",
       "kensio   0.0893449  102.194  2015-08-21 22:57:00           147160       13148   \n",
       "\n",
       "                  start_date  \n",
       "atamali  2015-04-24 17:46:00  \n",
       "ayapo    2015-04-22 11:54:00  \n",
       "kensio   2015-05-11 18:17:00  "
      ]
     },
     "execution_count": 3,
     "metadata": {},
     "output_type": "execute_result"
    }
   ],
   "source": [
    "# Data samples present in observations\n",
    "\n",
    "data = {}\n",
    "for rfd in wpa.raw_file_data[2:]:\n",
    "    energy = wpa.load_timeseries_file(rfd['village_name'] + '-clean.csv')\n",
    "    start_date = energy.index[0]\n",
    "    end_date = energy.index[-1]\n",
    "    duration = (end_date - start_date)/np.timedelta64(1,'D')\n",
    "    expected_samples = duration * 24 * 60\n",
    "    num_samples = len(energy)\n",
    "    coverage = num_samples / expected_samples\n",
    "    #print(duration)\n",
    "    data[rfd['village_name']] = {'start_date':energy.index[0],\n",
    "                                 'end_date':energy.index[-1],\n",
    "                                 'duration':duration,\n",
    "                                 'expected_samples':expected_samples,\n",
    "                                 'num_samples':num_samples,\n",
    "                                 'coverage':coverage}\n",
    "pd.DataFrame(data).T"
   ]
  },
  {
   "cell_type": "code",
   "execution_count": 4,
   "metadata": {},
   "outputs": [
    {
     "data": {
      "text/html": [
       "<div>\n",
       "<style>\n",
       "    .dataframe thead tr:only-child th {\n",
       "        text-align: right;\n",
       "    }\n",
       "\n",
       "    .dataframe thead th {\n",
       "        text-align: left;\n",
       "    }\n",
       "\n",
       "    .dataframe tbody tr th {\n",
       "        vertical-align: top;\n",
       "    }\n",
       "</style>\n",
       "<table border=\"1\" class=\"dataframe\">\n",
       "  <thead>\n",
       "    <tr style=\"text-align: right;\">\n",
       "      <th></th>\n",
       "      <th>duration</th>\n",
       "      <th>percent ts</th>\n",
       "      <th>percent gaps</th>\n",
       "      <th>coverage</th>\n",
       "    </tr>\n",
       "  </thead>\n",
       "  <tbody>\n",
       "    <tr>\n",
       "      <th>atamali</th>\n",
       "      <td>124.065</td>\n",
       "      <td>0.1904</td>\n",
       "      <td>0.67276</td>\n",
       "      <td>0.863161</td>\n",
       "    </tr>\n",
       "    <tr>\n",
       "      <th>ayapo</th>\n",
       "      <td>127.433</td>\n",
       "      <td>0.232502</td>\n",
       "      <td>0.672051</td>\n",
       "      <td>0.904552</td>\n",
       "    </tr>\n",
       "    <tr>\n",
       "      <th>kensio</th>\n",
       "      <td>102.194</td>\n",
       "      <td>0.0893443</td>\n",
       "      <td>0.837226</td>\n",
       "      <td>0.92657</td>\n",
       "    </tr>\n",
       "  </tbody>\n",
       "</table>\n",
       "</div>"
      ],
      "text/plain": [
       "        duration percent ts percent gaps  coverage\n",
       "atamali  124.065     0.1904      0.67276  0.863161\n",
       "ayapo    127.433   0.232502     0.672051  0.904552\n",
       "kensio   102.194  0.0893443     0.837226   0.92657"
      ]
     },
     "execution_count": 4,
     "metadata": {},
     "output_type": "execute_result"
    }
   ],
   "source": [
    "# Data samples present including reported on/off events\n",
    "\n",
    "dd = {}\n",
    "for rfd in wpa.raw_file_data[2:]:\n",
    "    vname = rfd['village_name']\n",
    "    energy_data = wpa.load_timeseries_file(vname + '-clean.csv')\n",
    "    messages = wpa.load_message_file(vname + '-messages.csv')\n",
    "    start_date, end_date = wpa.get_start_time(energy_data), wpa.get_end_time(energy_data)\n",
    "    duration = (end_date - start_date) / np.timedelta64(1,'D')\n",
    "    dd[vname] = {'start_date':start_date,\n",
    "                 'end_date':end_date,\n",
    "                 'duration':duration,\n",
    "                'percent ts': wpa.create_uptime_boolean_timestamp(energy_data).mean(),\n",
    "                'percent gaps': wpa.create_downtime_boolean_message(energy_data, messages).mean(),\n",
    "                    'coverage':wpa.valid_coverage_percentage(energy_data, messages)}\n",
    "\n",
    "stats = pd.DataFrame(dd).T[['duration',\n",
    "                            'percent ts',\n",
    "                            'percent gaps',\n",
    "                            'coverage']]\n",
    "stats"
   ]
  },
  {
   "cell_type": "code",
   "execution_count": 5,
   "metadata": {},
   "outputs": [
    {
     "name": "stdout",
     "output_type": "stream",
     "text": [
      "| Village   |   Duration (days) |   Percent data |   Percent known downtime |   Total Coverage |\n",
      "|:----------|------------------:|---------------:|-------------------------:|-----------------:|\n",
      "| atamali   |           124.065 |      0.1904    |                 0.67276  |         0.863161 |\n",
      "| ayapo     |           127.433 |      0.232502  |                 0.672051 |         0.904552 |\n",
      "| kensio    |           102.194 |      0.0893443 |                 0.837226 |         0.92657  |\n"
     ]
    }
   ],
   "source": [
    "import tabulate\n",
    "print(tabulate.tabulate(stats, tablefmt='pipe', \n",
    "      headers=['Village', 'Duration (days)', 'Percent data', 'Percent known downtime', 'Total Coverage']))"
   ]
  },
  {
   "cell_type": "code",
   "execution_count": 6,
   "metadata": {
    "collapsed": true
   },
   "outputs": [],
   "source": [
    "with open('../tables/data_coverage.md', 'w') as f:\n",
    "    f.write(tabulate.tabulate(stats, tablefmt='pipe', \n",
    "      headers=['Village', 'Start Date', 'End Date', 'Duration', 'Coverage']))"
   ]
  }
 ],
 "metadata": {
  "kernelspec": {
   "display_name": "Python 3",
   "language": "python",
   "name": "python3"
  },
  "language_info": {
   "codemirror_mode": {
    "name": "ipython",
    "version": 3
   },
   "file_extension": ".py",
   "mimetype": "text/x-python",
   "name": "python",
   "nbconvert_exporter": "python",
   "pygments_lexer": "ipython3",
   "version": "3.6.2"
  }
 },
 "nbformat": 4,
 "nbformat_minor": 2
}
