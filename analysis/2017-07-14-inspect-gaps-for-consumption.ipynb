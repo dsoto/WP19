{
 "cells": [
  {
   "cell_type": "markdown",
   "metadata": {},
   "source": [
    "# Introduction\n",
    "\n",
    "- some of the data gaps in our data show an increase in energy consumption\n",
    "- this complicates the decision to ingnore or discard them\n",
    "- this notebook creates a catalog of gaps and any power consumption during the gap\n",
    "\n",
    "# Method\n",
    "\n",
    "- take a discrete difference of the kWh export and timestamp index\n",
    "- create a column from the index so that you get both diffs\n",
    "- create a structure with start time, duration, and energy consumption\n",
    "\n",
    "# Results\n",
    "\n",
    "- There are many events where there is a change in the kWh export value during a data gap:  \n",
    "    - `{'ajau': 608, 'asei': 55, 'atamali': 15, 'ayapo': 81, 'kensio': 3}`\n",
    "- If we extend the definition of a gap to longer than two minutes we get:\n",
    "    - `{'ajau': 40, 'asei': 15, 'atamali': 4, 'ayapo': 24, 'kensio': 3}`\n",
    "- By looking at the percentiles, it appears that the vast majority of the kWh jumps are 1 kWh and there is only one large jump in each village.\n",
    "- Also, many of these gaps are only two minutes, which suggest that (invalid) data could be inserted in these gaps without incident.\n",
    "\n",
    "# Next Work\n",
    "\n",
    "- consider using pandas intervals to make this cleaner and more explicit\n",
    "- consider scatter plot with x-axis as duration and y-axis as energy to see patterns\n",
    "- create table with total number of gaps, number of gaps with kwh jumps\n",
    "- there are lots of gaps of 2 minutes, which seem ripe for ignoring"
   ]
  },
  {
   "cell_type": "code",
   "execution_count": 2,
   "metadata": {
    "collapsed": true
   },
   "outputs": [],
   "source": [
    "%load_ext autoreload"
   ]
  },
  {
   "cell_type": "code",
   "execution_count": 3,
   "metadata": {
    "collapsed": true
   },
   "outputs": [],
   "source": [
    "%autoreload 2\n",
    "%matplotlib inline\n",
    "\n",
    "import pandas as pd\n",
    "import numpy as np\n",
    "import matplotlib.pyplot as plt\n",
    "import seaborn as sns\n",
    "import WP19_analysis as wpa\n",
    "\n",
    "def wpa_get_energy_gaps_timestamp(energy_data):\n",
    "    # create time gaps and energy differences and return as df\n",
    "    energy_data['timestamp'] = energy_data.index\n",
    "    energy_data = energy_data[['kWh export', 'timestamp']]\n",
    "    tmp = energy_data.diff().shift(-1)\n",
    "    return tmp[tmp['timestamp'] > np.timedelta64(1,'m')]\n"
   ]
  },
  {
   "cell_type": "code",
   "execution_count": 4,
   "metadata": {},
   "outputs": [],
   "source": [
    "vname = 'test'\n",
    "energy_data = wpa.load_timeseries_file(vname + '-clean.csv')\n",
    "messages = wpa.load_message_file(vname + '-messages.csv')\n"
   ]
  },
  {
   "cell_type": "code",
   "execution_count": 12,
   "metadata": {},
   "outputs": [
    {
     "name": "stdout",
     "output_type": "stream",
     "text": [
      "ajau\n",
      "1.0      36\n",
      "2.0       1\n",
      "14.0      1\n",
      "122.0     1\n",
      "Name: kWh export, dtype: int64\n",
      "00:23:00    3\n",
      "01:32:00    2\n",
      "00:37:00    2\n",
      "00:09:00    1\n",
      "02:10:00    1\n",
      "00:12:00    1\n",
      "00:21:00    1\n",
      "00:30:00    1\n",
      "00:13:00    1\n",
      "01:15:00    1\n",
      "00:40:00    1\n",
      "01:33:00    1\n",
      "02:37:00    1\n",
      "00:10:00    1\n",
      "01:05:00    1\n",
      "02:09:00    1\n",
      "00:19:00    1\n",
      "02:02:00    1\n",
      "00:50:00    1\n",
      "01:08:00    1\n",
      "00:27:00    1\n",
      "01:27:00    1\n",
      "01:00:00    1\n",
      "01:14:00    1\n",
      "00:33:00    1\n",
      "03:09:00    1\n",
      "04:50:00    1\n",
      "01:47:00    1\n",
      "08:12:00    1\n",
      "00:25:00    1\n",
      "00:44:00    1\n",
      "00:26:00    1\n",
      "01:58:00    1\n",
      "00:36:00    1\n",
      "00:55:00    1\n",
      "Name: timestamp, dtype: int64\n",
      "asei\n",
      "1.0      11\n",
      "395.0     1\n",
      "18.0      1\n",
      "9.0       1\n",
      "5.0       1\n",
      "Name: kWh export, dtype: int64\n",
      "0 days 00:18:00    1\n",
      "0 days 00:04:00    1\n",
      "0 days 00:13:00    1\n",
      "0 days 00:25:00    1\n",
      "2 days 01:50:00    1\n",
      "0 days 02:11:00    1\n",
      "0 days 00:53:00    1\n",
      "0 days 01:02:00    1\n",
      "0 days 00:16:00    1\n",
      "0 days 02:47:00    1\n",
      "0 days 00:43:00    1\n",
      "0 days 00:52:00    1\n",
      "0 days 00:45:00    1\n",
      "0 days 04:40:00    1\n",
      "0 days 00:14:00    1\n",
      "Name: timestamp, dtype: int64\n",
      "atamali\n",
      "1.0    3\n",
      "6.0    1\n",
      "Name: kWh export, dtype: int64\n",
      "00:33:00    1\n",
      "18:57:00    1\n",
      "02:05:00    1\n",
      "00:31:00    1\n",
      "Name: timestamp, dtype: int64\n",
      "ayapo\n",
      "1.0     21\n",
      "2.0      1\n",
      "12.0     1\n",
      "Name: kWh export, dtype: int64\n",
      "0 days 00:11:00     2\n",
      "0 days 17:29:00     1\n",
      "0 days 18:10:00     1\n",
      "0 days 17:02:00     1\n",
      "0 days 17:25:00     1\n",
      "0 days 16:15:00     1\n",
      "0 days 17:12:00     1\n",
      "11 days 18:55:00    1\n",
      "0 days 16:54:00     1\n",
      "0 days 16:45:00     1\n",
      "0 days 17:10:00     1\n",
      "0 days 19:58:00     1\n",
      "0 days 00:04:00     1\n",
      "0 days 17:32:00     1\n",
      "0 days 16:30:00     1\n",
      "0 days 16:42:00     1\n",
      "0 days 16:10:00     1\n",
      "0 days 16:56:00     1\n",
      "0 days 18:05:00     1\n",
      "0 days 16:33:00     1\n",
      "0 days 16:29:00     1\n",
      "0 days 16:25:00     1\n",
      "Name: timestamp, dtype: int64\n",
      "kensio\n",
      "1.0    3\n",
      "Name: kWh export, dtype: int64\n",
      "3 days 19:39:00    1\n",
      "2 days 18:41:00    1\n",
      "0 days 21:49:00    1\n",
      "Name: timestamp, dtype: int64\n"
     ]
    }
   ],
   "source": [
    "tmpdict = {}\n",
    "for rfd in wpa.raw_file_data:\n",
    "    vname = rfd['village_name']\n",
    "    energy_data = wpa.load_timeseries_file(vname + '-clean.csv')\n",
    "    messages = wpa.load_message_file(vname + '-messages.csv')\n",
    "    print(vname)\n",
    "    gaps = wpa_get_energy_gaps_timestamp(energy_data)\n",
    "    gaps = gaps[gaps['timestamp'] > np.timedelta64(3,'m')]\n",
    "    #print(gaps[gaps['kWh export'] != 0].describe())\n",
    "    print(gaps[gaps['kWh export'] != 0]['kWh export'].value_counts())\n",
    "    print(gaps[gaps['kWh export'] != 0]['timestamp'].value_counts())\n",
    "    tmpdict[vname] = len(gaps[gaps['kWh export'] != 0])"
   ]
  },
  {
   "cell_type": "code",
   "execution_count": 11,
   "metadata": {},
   "outputs": [
    {
     "data": {
      "text/plain": [
       "{'ajau': 39, 'asei': 15, 'atamali': 4, 'ayapo': 23, 'kensio': 3}"
      ]
     },
     "execution_count": 11,
     "metadata": {},
     "output_type": "execute_result"
    }
   ],
   "source": [
    "tmpdict"
   ]
  },
  {
   "cell_type": "code",
   "execution_count": null,
   "metadata": {
    "collapsed": true
   },
   "outputs": [],
   "source": []
  }
 ],
 "metadata": {
  "kernelspec": {
   "display_name": "Python 3",
   "language": "python",
   "name": "python3"
  },
  "language_info": {
   "codemirror_mode": {
    "name": "ipython",
    "version": 3
   },
   "file_extension": ".py",
   "mimetype": "text/x-python",
   "name": "python",
   "nbconvert_exporter": "python",
   "pygments_lexer": "ipython3",
   "version": "3.6.1"
  },
  "widgets": {
   "state": {},
   "version": "1.1.2"
  }
 },
 "nbformat": 4,
 "nbformat_minor": 1
}
