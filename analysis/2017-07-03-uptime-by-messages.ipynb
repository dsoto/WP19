{
 "cells": [
  {
   "cell_type": "markdown",
   "metadata": {},
   "source": [
    "TODO:\n",
    "- get the total durations from data files for normalization\n",
    "- grid durations should be correlated\n",
    "- microgrid durations should not be correlated"
   ]
  },
  {
   "cell_type": "code",
   "execution_count": 1,
   "metadata": {
    "collapsed": false
   },
   "outputs": [],
   "source": [
    "%matplotlib inline\n",
    "import pandas as pd\n",
    "import numpy as np\n",
    "import WP19_analysis"
   ]
  },
  {
   "cell_type": "code",
   "execution_count": 18,
   "metadata": {
    "collapsed": true
   },
   "outputs": [],
   "source": [
    "def get_durations(messages):\n",
    "    power_down = messages[messages['message']=='Power Down']\n",
    "    power_up = messages[messages['message']=='Power Up']\n",
    "\n",
    "    # first message should be a power down\n",
    "    assert (power_down.index[0] < power_up.index[0]), 'first message not power down'\n",
    "    # last message should be a power up\n",
    "    assert (power_down.index[-1] < power_up.index[-1]), 'last message not power up'\n",
    "    # should be same number of up and down messages\n",
    "    assert (len(power_down) == len(power_up)), 'unequal up and down messages'\n",
    "\n",
    "    return pd.DataFrame(data = {'durations':(power_up.index - power_down.index)/np.timedelta64(1, 'h')}, \n",
    "                        index=power_down.index)\n",
    "\n",
    "def load_message_file(filename):\n",
    "    return pd.read_csv(filename, index_col=0, parse_dates=True)\n",
    "\n",
    "def load_timeseries_file(filename):\n",
    "    return pd.read_csv(filename, index_col=0, parse_dates=True)\n",
    "\n",
    "def get_total_duration(observations):\n",
    "    return (observations.index[-1] - observations.index[0])/np.timedelta64(1, 'h')\n"
   ]
  },
  {
   "cell_type": "code",
   "execution_count": 29,
   "metadata": {
    "collapsed": false
   },
   "outputs": [
    {
     "name": "stdout",
     "output_type": "stream",
     "text": [
      "ajau\n",
      "asei\n",
      "atamali\n",
      "ayapo\n",
      "kensio\n"
     ]
    },
    {
     "data": {
      "text/html": [
       "<div>\n",
       "<table border=\"1\" class=\"dataframe\">\n",
       "  <thead>\n",
       "    <tr style=\"text-align: right;\">\n",
       "      <th></th>\n",
       "      <th>downtime</th>\n",
       "      <th>total duration</th>\n",
       "      <th>uptime</th>\n",
       "    </tr>\n",
       "  </thead>\n",
       "  <tbody>\n",
       "    <tr>\n",
       "      <th>ajau</th>\n",
       "      <td>102.056111</td>\n",
       "      <td>3083.533336</td>\n",
       "      <td>0.966903</td>\n",
       "    </tr>\n",
       "    <tr>\n",
       "      <th>asei</th>\n",
       "      <td>101.501389</td>\n",
       "      <td>1888.533332</td>\n",
       "      <td>0.946254</td>\n",
       "    </tr>\n",
       "    <tr>\n",
       "      <th>atamali</th>\n",
       "      <td>2003.236389</td>\n",
       "      <td>2977.566668</td>\n",
       "      <td>0.327224</td>\n",
       "    </tr>\n",
       "    <tr>\n",
       "      <th>ayapo</th>\n",
       "      <td>2055.485278</td>\n",
       "      <td>3058.383337</td>\n",
       "      <td>0.327918</td>\n",
       "    </tr>\n",
       "    <tr>\n",
       "      <th>kensio</th>\n",
       "      <td>2053.530833</td>\n",
       "      <td>2452.666663</td>\n",
       "      <td>0.162735</td>\n",
       "    </tr>\n",
       "  </tbody>\n",
       "</table>\n",
       "</div>"
      ],
      "text/plain": [
       "            downtime  total duration    uptime\n",
       "ajau      102.056111     3083.533336  0.966903\n",
       "asei      101.501389     1888.533332  0.946254\n",
       "atamali  2003.236389     2977.566668  0.327224\n",
       "ayapo    2055.485278     3058.383337  0.327918\n",
       "kensio   2053.530833     2452.666663  0.162735"
      ]
     },
     "execution_count": 29,
     "metadata": {},
     "output_type": "execute_result"
    }
   ],
   "source": [
    "data = {}\n",
    "for rfd in WP19_analysis.raw_file_data:\n",
    "    # get durations from message file\n",
    "    messages = load_message_file(rfd['village_name'] + '-messages.csv')\n",
    "    durations = get_durations(messages)\n",
    "    # get total duration from time series file\n",
    "    observations = load_timeseries_file(rfd['village_name'] + '.csv')\n",
    "    total_duration = get_total_duration(observations)\n",
    "    \n",
    "    print(rfd['village_name']) \n",
    "    data[rfd['village_name']] = {'downtime':durations.sum().values[0],\n",
    "                                 'total duration':total_duration,\n",
    "                                 'uptime':1-durations.sum().values[0]/total_duration}\n",
    "    \n",
    "pd.DataFrame(data).T"
   ]
  },
  {
   "cell_type": "code",
   "execution_count": 15,
   "metadata": {
    "collapsed": false
   },
   "outputs": [
    {
     "data": {
      "text/plain": [
       "array([[<matplotlib.axes._subplots.AxesSubplot object at 0x1113ed978>]], dtype=object)"
      ]
     },
     "execution_count": 15,
     "metadata": {},
     "output_type": "execute_result"
    },
    {
     "data": {
      "image/png": "[encoded data removed]",
      "text/plain": [
       "<matplotlib.figure.Figure at 0x111331128>"
      ]
     },
     "metadata": {},
     "output_type": "display_data"
    }
   ],
   "source": [
    "filename = 'kensio-messages.csv'\n",
    "durations = get_durations(load_message_file(filename))\n",
    "durations.hist()"
   ]
  },
  {
   "cell_type": "code",
   "execution_count": null,
   "metadata": {
    "collapsed": true
   },
   "outputs": [],
   "source": []
  }
 ],
 "metadata": {
  "kernelspec": {
   "display_name": "Python 3",
   "language": "python",
   "name": "python3"
  },
  "language_info": {
   "codemirror_mode": {
    "name": "ipython",
    "version": 3
   },
   "file_extension": ".py",
   "mimetype": "text/x-python",
   "name": "python",
   "nbconvert_exporter": "python",
   "pygments_lexer": "ipython3",
   "version": "3.4.5"
  },
  "widgets": {
   "state": {},
   "version": "1.1.2"
  }
 },
 "nbformat": 4,
 "nbformat_minor": 0
}
