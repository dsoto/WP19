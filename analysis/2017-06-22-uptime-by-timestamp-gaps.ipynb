{
 "cells": [
  {
   "cell_type": "markdown",
   "metadata": {},
   "source": [
    "This notebook recreates my analysis of uptime based on the gaps between timestamps in the energy data files.\n",
    "\n",
    "Done:\n",
    "\n",
    "- install pint on sotolab on macbook pro\n",
    "- take functions from 2016-02-10 and 2016-02-12 notebooks and add to WP19_analysis.py\n",
    "- recreate loops with these library functions\n",
    "\n",
    "Plan:\n",
    "\n",
    "- get number of residents from Matt Basinger\n",
    "- include number of residents and households in the RDF data structure\n",
    "- verify that the analysis is near publication quality\n",
    "- estimate the uptime for an evenings-only schedule"
   ]
  },
  {
   "cell_type": "code",
   "execution_count": 11,
   "metadata": {
    "collapsed": false
   },
   "outputs": [
    {
     "data": {
      "text/html": [
       "<div>\n",
       "<table border=\"1\" class=\"dataframe\">\n",
       "  <thead>\n",
       "    <tr style=\"text-align: right;\">\n",
       "      <th></th>\n",
       "      <th>uptime percentage</th>\n",
       "    </tr>\n",
       "  </thead>\n",
       "  <tbody>\n",
       "    <tr>\n",
       "      <th>ajau</th>\n",
       "      <td>0.949292</td>\n",
       "    </tr>\n",
       "    <tr>\n",
       "      <th>asei</th>\n",
       "      <td>0.906702</td>\n",
       "    </tr>\n",
       "    <tr>\n",
       "      <th>atamali</th>\n",
       "      <td>0.187575</td>\n",
       "    </tr>\n",
       "    <tr>\n",
       "      <th>ayapo</th>\n",
       "      <td>0.229224</td>\n",
       "    </tr>\n",
       "    <tr>\n",
       "      <th>kensio</th>\n",
       "      <td>0.088316</td>\n",
       "    </tr>\n",
       "  </tbody>\n",
       "</table>\n",
       "</div>"
      ],
      "text/plain": [
       "         uptime percentage\n",
       "ajau              0.949292\n",
       "asei              0.906702\n",
       "atamali           0.187575\n",
       "ayapo             0.229224\n",
       "kensio            0.088316"
      ]
     },
     "execution_count": 11,
     "metadata": {},
     "output_type": "execute_result"
    }
   ],
   "source": [
    "import pandas as pd\n",
    "import WP19_analysis\n",
    "\n",
    "filenames = ['ajau.csv']\n",
    "output = {}\n",
    "for rdf in WP19_analysis.raw_file_data:\n",
    "    input_file = rdf['village_name'] + '.csv'\n",
    "    energy_data = pd.read_csv(input_file, index_col=0, parse_dates=True)\n",
    "    output[rdf['village_name']] = {'uptime percentage': WP19_analysis.calculate_uptime(energy_data).magnitude}\n",
    "\n",
    "pd.DataFrame(output).T"
   ]
  }
 ],
 "metadata": {
  "kernelspec": {
   "display_name": "Python 3",
   "language": "python",
   "name": "python3"
  },
  "language_info": {
   "codemirror_mode": {
    "name": "ipython",
    "version": 3
   },
   "file_extension": ".py",
   "mimetype": "text/x-python",
   "name": "python",
   "nbconvert_exporter": "python",
   "pygments_lexer": "ipython3",
   "version": "3.4.5"
  },
  "widgets": {
   "state": {},
   "version": "1.1.2"
  }
 },
 "nbformat": 4,
 "nbformat_minor": 0
}
