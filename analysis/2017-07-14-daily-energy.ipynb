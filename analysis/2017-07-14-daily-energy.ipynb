{
 "cells": [
  {
   "cell_type": "markdown",
   "metadata": {},
   "source": [
    "# Introduction\n",
    "\n",
    "This notebook computes the daily energy consumed downstream from the meter.\n",
    "\n",
    "# Method\n",
    "\n",
    "There are two average energy measures we can report.\n",
    "The first is the average energy consumed on days where the grid is fully functioning.\n",
    "The second is the average energy consumed over the entire time period.\n",
    "\n",
    "We define operational average energy as the sum of the energy consumed on valid observation days divided by the total number of valid observation days.\n",
    "\n",
    "A valid observation day is one where the number of timeseries reports during a 24-hour period is above a threshold value.\n",
    "\n",
    "Using the accumulated energy time series\n",
    "\n",
    "- determine valid observation days\n",
    "- get daily sample values for the valid observation days\n",
    "- take discrete difference to get the daily energy\n",
    "\n",
    "\n",
    "- TODO: how are valid observation days defined?\n",
    "- TODO: since microgrids have outages every day, how do you set the threshold for sufficient data to make a valid observation?  maybe that the main period of power delivery has to be uninterrupted?\n",
    "- TODO: consider inserting zeros from the gaps to get a better more complete data set.  this will put many valid zeros in place of the NaNs.\n",
    "\n",
    "# Results\n",
    "\n",
    "\n",
    "# Next Work\n",
    "\n",
    "- decide on best statistics for reporting and comparing energy use"
   ]
  },
  {
   "cell_type": "code",
   "execution_count": 1,
   "metadata": {
    "collapsed": true
   },
   "outputs": [],
   "source": [
    "%load_ext autoreload"
   ]
  },
  {
   "cell_type": "code",
   "execution_count": 2,
   "metadata": {
    "collapsed": true
   },
   "outputs": [],
   "source": [
    "%autoreload 2\n",
    "%matplotlib inline\n",
    "\n",
    "import pandas as pd\n",
    "import numpy as np\n",
    "import matplotlib.pyplot as plt\n",
    "import seaborn as sns\n",
    "import WP19_analysis as wpa"
   ]
  },
  {
   "cell_type": "code",
   "execution_count": 3,
   "metadata": {},
   "outputs": [
    {
     "name": "stdout",
     "output_type": "stream",
     "text": [
      "kensio\n"
     ]
    }
   ],
   "source": [
    "for rfd in wpa.raw_file_data[4:5]:\n",
    "    vname = rfd['village_name']\n",
    "    energy_data = wpa.load_timeseries_file(vname + '-clean.csv')\n",
    "    messages = wpa.load_message_file(vname + '-messages.csv')\n",
    "    print(vname)"
   ]
  }
 ],
 "metadata": {
  "kernelspec": {
   "display_name": "Python 3",
   "language": "python",
   "name": "python3"
  },
  "language_info": {
   "codemirror_mode": {
    "name": "ipython",
    "version": 3
   },
   "file_extension": ".py",
   "mimetype": "text/x-python",
   "name": "python",
   "nbconvert_exporter": "python",
   "pygments_lexer": "ipython3",
   "version": "3.6.1"
  },
  "widgets": {
   "state": {},
   "version": "1.1.2"
  }
 },
 "nbformat": 4,
 "nbformat_minor": 1
}
