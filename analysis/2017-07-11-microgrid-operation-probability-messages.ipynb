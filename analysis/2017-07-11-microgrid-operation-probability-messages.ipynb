{
 "cells": [
  {
   "cell_type": "markdown",
   "metadata": {},
   "source": [
    "This notebook will calculate the observed fraction of times that it is providing power at a given time of day.\n",
    "\n",
    "- create datetime index for all days\n",
    "- aggregate by time\n",
    "- plot and or logistic regression\n"
   ]
  },
  {
   "cell_type": "code",
   "execution_count": 68,
   "metadata": {
    "collapsed": false
   },
   "outputs": [
    {
     "name": "stdout",
     "output_type": "stream",
     "text": [
      "The autoreload extension is already loaded. To reload it, use:\n",
      "  %reload_ext autoreload\n"
     ]
    }
   ],
   "source": [
    "%load_ext autoreload\n",
    "%autoreload 2\n",
    "\n",
    "import pandas as pd\n",
    "import numpy as np\n",
    "import WP19_analysis as wpa\n",
    "\n",
    "\n",
    "# TODO: loop over filenames and output plots\n",
    "filename = 'atamali'\n",
    "energy_data = wpa.load_timeseries_file(filename + '-clean.csv')\n",
    "messages = wpa.load_message_file(filename + '-messages.csv')\n",
    "\n",
    "# create minute datetime index\n",
    "index = pd.DatetimeIndex(start=wpa.get_start_time(energy_data),\n",
    "                         end=wpa.get_end_time(energy_data),\n",
    "                         freq='1T').values\n",
    "\n",
    "power_down = messages[messages['message']=='Power Down'].index.values\n",
    "power_up = messages[messages['message']=='Power Up'].index.values\n"
   ]
  },
  {
   "cell_type": "code",
   "execution_count": 69,
   "metadata": {
    "collapsed": false
   },
   "outputs": [],
   "source": [
    "on = []\n",
    "for i in index:\n",
    "    # if the insertion point of the index is one greater for the power_down time, you are in a gap\n",
    "    if np.searchsorted(power_down, i) == np.searchsorted(power_up, i) + 1:\n",
    "        on.append(0)\n",
    "    else:\n",
    "        on.append(1)"
   ]
  },
  {
   "cell_type": "code",
   "execution_count": 70,
   "metadata": {
    "collapsed": false
   },
   "outputs": [],
   "source": [
    "%matplotlib inline\n",
    "on_off = pd.DataFrame(index=index, data=on)"
   ]
  },
  {
   "cell_type": "code",
   "execution_count": 72,
   "metadata": {
    "collapsed": false
   },
   "outputs": [
    {
     "data": {
      "text/plain": [
       "<matplotlib.axes._subplots.AxesSubplot at 0x11ab32b00>"
      ]
     },
     "execution_count": 72,
     "metadata": {},
     "output_type": "execute_result"
    },
    {
     "data": {
      "image/png": "[encoded data removed]",
      "text/plain": [
       "<matplotlib.figure.Figure at 0x113c46240>"
      ]
     },
     "metadata": {},
     "output_type": "display_data"
    }
   ],
   "source": [
    "on_off.groupby(on_off.index.hour).sum().plot()"
   ]
  },
  {
   "cell_type": "markdown",
   "metadata": {},
   "source": [
    "I don't actually believe the grid is on this much during the day.\n",
    "There just isn't a reported gap during these times, which seems odd."
   ]
  }
 ],
 "metadata": {
  "kernelspec": {
   "display_name": "Python 3",
   "language": "python",
   "name": "python3"
  },
  "language_info": {
   "codemirror_mode": {
    "name": "ipython",
    "version": 3
   },
   "file_extension": ".py",
   "mimetype": "text/x-python",
   "name": "python",
   "nbconvert_exporter": "python",
   "pygments_lexer": "ipython3",
   "version": "3.4.5"
  },
  "widgets": {
   "state": {},
   "version": "1.1.2"
  }
 },
 "nbformat": 4,
 "nbformat_minor": 0
}
