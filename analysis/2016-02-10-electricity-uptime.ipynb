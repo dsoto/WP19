{
 "cells": [
  {
   "cell_type": "markdown",
   "metadata": {},
   "source": [
    "# Electricity uptime\n",
    "\n",
    "I want to observe the time that the grid is operating and compare that to the intended operating time as well as the desired operating time from the perspective of the residents.\n",
    "\n",
    "Possible approaches:\n",
    "\n",
    "- Sort index and take differences of the time stamps histogram\n",
    "- Look at how to calculate number of days with valid data\n",
    "- Calculate uptime\n",
    "- Compare communication and power up/down time stamps with reported data\n",
    "\n",
    "Problems\n",
    "\n",
    "- Pandas used to have a discrete difference but now I think I have to use numpy"
   ]
  },
  {
   "cell_type": "code",
   "execution_count": 1,
   "metadata": {
    "collapsed": false
   },
   "outputs": [],
   "source": [
    "import pandas as pd\n",
    "\n",
    "def parse_file(energy_file_name):\n",
    "    # read in raw CSV file for preprocessing\n",
    "    energy_file = open(energy_file_name)\n",
    "    # append data lines after header beginning with 'Timestamp'\n",
    "    # dump lines from communications messages or empty lines and write to string\n",
    "    file_string = ''\n",
    "    omit_strings = ['Power Up', 'Communication Lost', 'Power Down', ',,,,,,,,,,,']\n",
    "    # append data not matching omit_strings after sentinel is reached\n",
    "    data_found = False\n",
    "    for line in energy_file.readlines():\n",
    "        if 'Timestamp' in line:\n",
    "            data_found = True\n",
    "        if not any(omit in line for omit in omit_strings) and data_found:\n",
    "            file_string += line\n",
    "    return file_string    \n",
    "\n",
    "def create_data_frame(energy_file_name):\n",
    "    # use pre-parsed string to read in data file to pandas and sort by date\n",
    "    file_string = parse_file(energy_file_name)\n",
    "    import io\n",
    "    energy_data = pd.read_csv(io.StringIO(file_string),\n",
    "                          index_col=0, \n",
    "                          parse_dates=[0], \n",
    "                          thousands=',')\n",
    "    energy_data = energy_data.sort_index()\n",
    "    return energy_data\n",
    "\n",
    "def get_energy_stats(energy_data):\n",
    "    energy = energy_data['kWh export']\n",
    "    resampled = energy.resample('D').diff()\n",
    "    return resampled.mean(), resampled.median()"
   ]
  },
  {
   "cell_type": "markdown",
   "metadata": {},
   "source": [
    "# Initial Visualization\n",
    "\n",
    "By plotting the date against the integer index of the dates, we can see discontinuities in service as vertical steps.  One approach is to add together differences in time stamps below a certain value as service and above a certain value as an outage."
   ]
  },
  {
   "cell_type": "code",
   "execution_count": 2,
   "metadata": {
    "collapsed": false
   },
   "outputs": [
    {
     "data": {
      "text/plain": [
       "[<matplotlib.lines.Line2D at 0x107719668>]"
      ]
     },
     "execution_count": 2,
     "metadata": {},
     "output_type": "execute_result"
    },
    {
     "data": {
      "image/png": "[encoded data removed]",
      "text/plain": [
       "<matplotlib.figure.Figure at 0x104ca8b70>"
      ]
     },
     "metadata": {},
     "output_type": "display_data"
    }
   ],
   "source": [
    "%matplotlib inline\n",
    "import matplotlib.pyplot as plt\n",
    "\n",
    "energy_file_name = \"../data-timeseries/Data_Logs Atamali Agustus.csv\"\n",
    "energy_data = create_data_frame(energy_file_name)\n",
    "plt.plot(energy_data.index)"
   ]
  },
  {
   "cell_type": "markdown",
   "metadata": {},
   "source": [
    "# Differences\n",
    "\n",
    "We can take a discrete difference and count the distance between time stamps.  We see that there are thousands of observations at one minute and many observations at longer time differences.  By multiplying the time difference by the number of observations, we can get the down and up time."
   ]
  },
  {
   "cell_type": "code",
   "execution_count": 3,
   "metadata": {
    "collapsed": false
   },
   "outputs": [
    {
     "data": {
      "text/plain": [
       "59        3605\n",
       "60        3901\n",
       "119          2\n",
       "46620        1\n",
       "61259        1\n",
       "62039        1\n",
       "62699        1\n",
       "62999        1\n",
       "64020        1\n",
       "64440        1\n",
       "64860        1\n",
       "65100        1\n",
       "65459        1\n",
       "65699        1\n",
       "66720        1\n",
       "67319        1\n",
       "67740        1\n",
       "68519        1\n",
       "68879        1\n",
       "69360        1\n",
       "74520        1\n",
       "75180        1\n",
       "147480       1\n",
       "151440       1\n",
       "236639       1\n",
       "dtype: int64"
      ]
     },
     "execution_count": 3,
     "metadata": {},
     "output_type": "execute_result"
    }
   ],
   "source": [
    "import numpy as np\n",
    "from pint import UnitRegistry\n",
    "u = UnitRegistry()\n",
    "\n",
    "# take the discrete difference between time samples\n",
    "# convert to seconds from nanoseconds\n",
    "# put in pandas series\n",
    "differences = np.diff(energy_data.index.values)/1e9\n",
    "differences = differences.astype(int)\n",
    "diff_series = pd.Series(differences)\n",
    "\n",
    "# use value counts to see intervals\n",
    "dsvc = diff_series.value_counts()\n",
    "dsvc.sort_index()"
   ]
  },
  {
   "cell_type": "markdown",
   "metadata": {},
   "source": [
    "We can multiply the index values which are durations in seconds, by the values in the series which are numbers of observations to get the total seconds for each observation.  By splitting these into observations of about a minute difference and observations over a minute and summing them, we can estimate the grid downtime and uptime."
   ]
  },
  {
   "cell_type": "code",
   "execution_count": 4,
   "metadata": {
    "collapsed": false
   },
   "outputs": [
    {
     "name": "stdout",
     "output_type": "stream",
     "text": [
      "uptime 446755 second\n",
      "downtime 1779228 second\n"
     ]
    }
   ],
   "source": [
    "cutoff_seconds = 60\n",
    "uptime = dsvc[dsvc.index <= cutoff_seconds]\n",
    "downtime = dsvc[dsvc.index > cutoff_seconds]\n",
    "\n",
    "inferred_uptime = (uptime.index * uptime).values.sum() * u.second\n",
    "inferred_downtime = (downtime.index * downtime).values.sum() * u.second\n",
    "\n",
    "print('uptime', inferred_uptime)\n",
    "print('downtime', inferred_downtime)"
   ]
  },
  {
   "cell_type": "markdown",
   "metadata": {},
   "source": [
    "By subtracting the last entry timestamp and the first, we calculate the total time period covered by the data and store it in a ```clock_time``` variable."
   ]
  },
  {
   "cell_type": "code",
   "execution_count": 5,
   "metadata": {
    "collapsed": false,
    "scrolled": true
   },
   "outputs": [
    {
     "name": "stdout",
     "output_type": "stream",
     "text": [
      "data range 25.805555335648144 day\n"
     ]
    }
   ],
   "source": [
    "clock_time = (energy_data.index[-1] - energy_data.index[0]).total_seconds() * u.seconds\n",
    "print('data range', clock_time.to(u.day))"
   ]
  },
  {
   "cell_type": "markdown",
   "metadata": {},
   "source": [
    "I can infer the total time from the total of the differences between samples.  We note that this is slightly different, possibly due to the truncation of seconds.  "
   ]
  },
  {
   "cell_type": "code",
   "execution_count": 6,
   "metadata": {
    "collapsed": false
   },
   "outputs": [
    {
     "data": {
      "text/html": [
       "25.763692129629625 day"
      ],
      "text/latex": [
       "$25.763692129629625 day$"
      ],
      "text/plain": [
       "<Quantity(25.763692129629625, 'day')>"
      ]
     },
     "execution_count": 6,
     "metadata": {},
     "output_type": "execute_result"
    }
   ],
   "source": [
    "inferred_time = (dsvc.index * dsvc).values.sum() * u.second\n",
    "inferred_time.to(u.day)"
   ]
  },
  {
   "cell_type": "code",
   "execution_count": 7,
   "metadata": {
    "collapsed": false
   },
   "outputs": [
    {
     "data": {
      "text/html": [
       "-0.0016222555753601547 dimensionless"
      ],
      "text/latex": [
       "$-0.0016222555753601547 dimensionless$"
      ],
      "text/plain": [
       "<Quantity(-0.0016222555753601547, 'dimensionless')>"
      ]
     },
     "execution_count": 7,
     "metadata": {},
     "output_type": "execute_result"
    }
   ],
   "source": [
    "# fractional difference between samples and clock time\n",
    "(inferred_time - clock_time)/clock_time"
   ]
  },
  {
   "cell_type": "markdown",
   "metadata": {},
   "source": [
    "Dividing these two allows you to see the percentage of the time the grid is running."
   ]
  },
  {
   "cell_type": "code",
   "execution_count": 8,
   "metadata": {
    "collapsed": false
   },
   "outputs": [
    {
     "data": {
      "text/html": [
       "0.200374508345495 dimensionless"
      ],
      "text/latex": [
       "$0.200374508345495 dimensionless$"
      ],
      "text/plain": [
       "<Quantity(0.200374508345495, 'dimensionless')>"
      ]
     },
     "execution_count": 8,
     "metadata": {},
     "output_type": "execute_result"
    }
   ],
   "source": [
    "inferred_uptime / clock_time"
   ]
  }
 ],
 "metadata": {
  "kernelspec": {
   "display_name": "Python 3",
   "language": "python",
   "name": "python3"
  },
  "language_info": {
   "codemirror_mode": {
    "name": "ipython",
    "version": 3
   },
   "file_extension": ".py",
   "mimetype": "text/x-python",
   "name": "python",
   "nbconvert_exporter": "python",
   "pygments_lexer": "ipython3",
   "version": "3.4.5"
  },
  "widgets": {
   "state": {},
   "version": "1.1.2"
  }
 },
 "nbformat": 4,
 "nbformat_minor": 0
}
