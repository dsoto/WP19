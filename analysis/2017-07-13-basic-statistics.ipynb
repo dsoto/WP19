{
 "cells": [
  {
   "cell_type": "markdown",
   "metadata": {},
   "source": [
    "# Introduction\n",
    "\n",
    "This notebook aggregates some basic statistics on the data coverage from the timestamp and message files.\n",
    "This will extend some analysis done in a 2017-07-04 notebook.\n",
    "\n",
    "# Method\n",
    "\n",
    "- get start and end date for each village\n",
    "- calculate number of days of data for each village\n",
    "- create a boolean array for minutes with a valid uptime or downtime observation\n",
    "\n",
    "\n",
    "# Results\n",
    "\n",
    "- all villages have data coverage of 86% or greater\n",
    "- ajau has 99% coverage\n",
    "\n",
    "\n",
    "# Next Work\n"
   ]
  },
  {
   "cell_type": "code",
   "execution_count": 1,
   "metadata": {
    "collapsed": false
   },
   "outputs": [],
   "source": [
    "%load_ext autoreload"
   ]
  },
  {
   "cell_type": "code",
   "execution_count": 2,
   "metadata": {
    "collapsed": false
   },
   "outputs": [],
   "source": [
    "%autoreload 2\n",
    "%matplotlib inline\n",
    "\n",
    "import pandas as pd\n",
    "import numpy as np\n",
    "import matplotlib.pyplot as plt\n",
    "import seaborn as sns\n",
    "import WP19_analysis as wpa\n",
    "\n",
    "def wpa_valid_coverage_percentage(energy_data, messages):\n",
    "    # if a particular time t is in a recorded gap or has a timestamp, it is valid \n",
    "    downtime = wpa.create_downtime_boolean_message(energy_data, messages)\n",
    "    uptime = wpa.create_uptime_boolean_timestamp(energy_data)\n",
    "    valid_observations = uptime | downtime\n",
    "    return valid_observations.mean()"
   ]
  },
  {
   "cell_type": "code",
   "execution_count": 3,
   "metadata": {
    "collapsed": false
   },
   "outputs": [
    {
     "data": {
      "text/html": [
       "<div>\n",
       "<table border=\"1\" class=\"dataframe\">\n",
       "  <thead>\n",
       "    <tr style=\"text-align: right;\">\n",
       "      <th></th>\n",
       "      <th>start_date</th>\n",
       "      <th>end_date</th>\n",
       "      <th>duration</th>\n",
       "      <th>coverage</th>\n",
       "    </tr>\n",
       "  </thead>\n",
       "  <tbody>\n",
       "    <tr>\n",
       "      <th>ajau</th>\n",
       "      <td>2015-04-22 00:00:00</td>\n",
       "      <td>2015-08-28 11:32:00</td>\n",
       "      <td>128.481</td>\n",
       "      <td>0.993579</td>\n",
       "    </tr>\n",
       "    <tr>\n",
       "      <th>asei</th>\n",
       "      <td>2015-04-22 00:00:00</td>\n",
       "      <td>2015-07-09 16:32:00</td>\n",
       "      <td>78.6889</td>\n",
       "      <td>0.968477</td>\n",
       "    </tr>\n",
       "    <tr>\n",
       "      <th>atamali</th>\n",
       "      <td>2015-04-24 17:46:00</td>\n",
       "      <td>2015-08-26 19:20:00</td>\n",
       "      <td>124.065</td>\n",
       "      <td>0.863161</td>\n",
       "    </tr>\n",
       "    <tr>\n",
       "      <th>ayapo</th>\n",
       "      <td>2015-04-22 11:54:00</td>\n",
       "      <td>2015-08-27 22:17:00</td>\n",
       "      <td>127.433</td>\n",
       "      <td>0.904552</td>\n",
       "    </tr>\n",
       "    <tr>\n",
       "      <th>kensio</th>\n",
       "      <td>2015-05-11 18:17:00</td>\n",
       "      <td>2015-08-21 22:57:00</td>\n",
       "      <td>102.194</td>\n",
       "      <td>0.92657</td>\n",
       "    </tr>\n",
       "  </tbody>\n",
       "</table>\n",
       "</div>"
      ],
      "text/plain": [
       "                  start_date             end_date duration  coverage\n",
       "ajau     2015-04-22 00:00:00  2015-08-28 11:32:00  128.481  0.993579\n",
       "asei     2015-04-22 00:00:00  2015-07-09 16:32:00  78.6889  0.968477\n",
       "atamali  2015-04-24 17:46:00  2015-08-26 19:20:00  124.065  0.863161\n",
       "ayapo    2015-04-22 11:54:00  2015-08-27 22:17:00  127.433  0.904552\n",
       "kensio   2015-05-11 18:17:00  2015-08-21 22:57:00  102.194   0.92657"
      ]
     },
     "execution_count": 3,
     "metadata": {},
     "output_type": "execute_result"
    }
   ],
   "source": [
    "dd = {}\n",
    "for rfd in wpa.raw_file_data:\n",
    "    vname = rfd['village_name']\n",
    "    energy_data = wpa.load_timeseries_file(vname + '-clean.csv')\n",
    "    messages = wpa.load_message_file(vname + '-messages.csv')\n",
    "    start_date, end_date = wpa.get_start_time(energy_data), wpa.get_end_time(energy_data)\n",
    "    duration = (end_date - start_date) / np.timedelta64(1,'D')\n",
    "    dd[vname] = {'start_date':start_date,\n",
    "                 'end_date':end_date,\n",
    "                 'duration':duration,\n",
    "                 'coverage':wpa_valid_coverage_percentage(energy_data, messages)}\n",
    "\n",
    "stats = pd.DataFrame(dd).T[['start_date', 'end_date', 'duration', 'coverage']]\n",
    "stats"
   ]
  },
  {
   "cell_type": "code",
   "execution_count": 4,
   "metadata": {
    "collapsed": false
   },
   "outputs": [
    {
     "name": "stdout",
     "output_type": "stream",
     "text": [
      "| Village   | Start Date          | End Date            |   Duration |   Coverage |\n",
      "|:----------|:--------------------|:--------------------|-----------:|-----------:|\n",
      "| ajau      | 2015-04-22 00:00:00 | 2015-08-28 11:32:00 |   128.481  |   0.993579 |\n",
      "| asei      | 2015-04-22 00:00:00 | 2015-07-09 16:32:00 |    78.6889 |   0.968477 |\n",
      "| atamali   | 2015-04-24 17:46:00 | 2015-08-26 19:20:00 |   124.065  |   0.863161 |\n",
      "| ayapo     | 2015-04-22 11:54:00 | 2015-08-27 22:17:00 |   127.433  |   0.904552 |\n",
      "| kensio    | 2015-05-11 18:17:00 | 2015-08-21 22:57:00 |   102.194  |   0.92657  |\n"
     ]
    }
   ],
   "source": [
    "# output for markdown outline\n",
    "import tabulate\n",
    "print(tabulate.tabulate(stats, tablefmt='pipe', \n",
    "      headers=['Village', 'Start Date', 'End Date', 'Duration', 'Coverage']))"
   ]
  },
  {
   "cell_type": "code",
   "execution_count": null,
   "metadata": {
    "collapsed": true
   },
   "outputs": [],
   "source": []
  }
 ],
 "metadata": {
  "kernelspec": {
   "display_name": "Python 3",
   "language": "python",
   "name": "python3"
  },
  "language_info": {
   "codemirror_mode": {
    "name": "ipython",
    "version": 3
   },
   "file_extension": ".py",
   "mimetype": "text/x-python",
   "name": "python",
   "nbconvert_exporter": "python",
   "pygments_lexer": "ipython3",
   "version": "3.4.5"
  },
  "widgets": {
   "state": {},
   "version": "1.1.2"
  }
 },
 "nbformat": 4,
 "nbformat_minor": 0
}
