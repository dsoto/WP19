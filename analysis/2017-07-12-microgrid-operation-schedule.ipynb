{
 "cells": [
  {
   "cell_type": "markdown",
   "metadata": {},
   "source": [
    "# Introduction\n",
    "\n",
    "This analysis hopes to compute the observed probability of grid operation for a given hour of the day.\n",
    "\n",
    "# Method\n",
    "\n",
    "I define the probability of power availability as \n",
    "\n",
    "$$ \\frac{\\textrm{number valid observations of power at time t}}\n",
    "        {\\textrm{number of valid observations of power and blackout at time t}} $$\n",
    "        \n",
    "A valid observation of power at time t is defined as having a time series observation of the power at time t.\n",
    "\n",
    "A valid observation of blackout at time t, is defined as time t falling in a recorded gap observation.\n",
    "\n",
    "- construct a one-minute time index\n",
    "- create a boolean column for valid power observation\n",
    "- create a boolean column for valid blackout observation\n",
    "- aggregate these observations over the time of day\n",
    "- sum and divide to give a probability measure\n",
    "\n",
    "# Results\n",
    "\n",
    "- grid shows above 90% availability at most times of day\n",
    "- microgrid shows evening use with zero use during day\n",
    "- maximum availibility of 80% on peak evening times\n",
    "\n",
    "# Next Work\n",
    "\n",
    "- get a minute by minute probability\n",
    "- create a publication-ready graph"
   ]
  },
  {
   "cell_type": "code",
   "execution_count": 1,
   "metadata": {
    "collapsed": false
   },
   "outputs": [],
   "source": [
    "%load_ext autoreload"
   ]
  },
  {
   "cell_type": "code",
   "execution_count": 22,
   "metadata": {
    "collapsed": false
   },
   "outputs": [],
   "source": [
    "%autoreload 2\n",
    "%matplotlib inline\n",
    "\n",
    "import pandas as pd\n",
    "import numpy as np\n",
    "import WP19_analysis as wpa\n",
    "\n",
    "\n",
    "def wpa_create_downtime_boolean_message(energy_data, messages):\n",
    "    # create boolean array of whether timestamp falls in recorded power gap\n",
    "    index = pd.DatetimeIndex(start=wpa.get_start_time(energy_data),\n",
    "                             end=wpa.get_end_time(energy_data),\n",
    "                             freq='1T').values\n",
    "    power_down = messages[messages['message']=='Power Down'].index.values\n",
    "    power_up = messages[messages['message']=='Power Up'].index.values\n",
    "\n",
    "    downtime = []\n",
    "    for i in index:\n",
    "        # if the insertion point of the index is one greater for the power_down time, you are in a gap\n",
    "        if np.searchsorted(power_down, i) == np.searchsorted(power_up, i) + 1:\n",
    "            downtime.append(1)\n",
    "        else:\n",
    "            downtime.append(0)\n",
    "    \n",
    "    return pd.Series(index=index, data=downtime)\n",
    "\n",
    "def wpa_create_uptime_boolean_timestamp(energy_data):\n",
    "    # create boolean array of whether timestamp is during a valid power observation\n",
    "    acc_energy = energy_data['kWh export']\n",
    "    rs_acc_energy = acc_energy.resample('1T').asfreq()\n",
    "    boolean_uptime = (~rs_acc_energy.isnull()).astype(int)\n",
    "    return boolean_uptime"
   ]
  },
  {
   "cell_type": "code",
   "execution_count": 35,
   "metadata": {
    "collapsed": false
   },
   "outputs": [
    {
     "data": {
      "image/png": "[encoded data removed]",
      "text/plain": [
       "<matplotlib.figure.Figure at 0x114b301d0>"
      ]
     },
     "metadata": {},
     "output_type": "display_data"
    }
   ],
   "source": [
    "for rfd in wpa.raw_file_data:\n",
    "    vname = rfd['village_name']\n",
    "    energy_data = wpa.load_timeseries_file(vname + '-clean.csv')\n",
    "    messages = wpa.load_message_file(vname + '-messages.csv')\n",
    "\n",
    "    uptime = wpa_create_uptime_boolean_timestamp(energy_data)\n",
    "    downtime = wpa_create_downtime_boolean_message(energy_data, messages) \n",
    "    assert uptime.index[0] == downtime.index[0], 'different start times'\n",
    "    assert uptime.index[-1] == downtime.index[-1], 'different end times'\n",
    "\n",
    "    # make single data frame from these two series\n",
    "    up_and_down_time = pd.DataFrame({'uptime':uptime, 'downtime':downtime})\n",
    "\n",
    "    # TODO: I'm uncomfortable summing all observations for each hour. Can I group by the hour and minute of the day?  is there a datetime index function to pull out a time?\n",
    "    aggregated = up_and_down_time.groupby(up_and_down_time.index.hour).sum()\n",
    "    aggregated['probability'] = aggregated['uptime'] / (aggregated['downtime'] + aggregated['uptime'])\n",
    "\n",
    "    aggregated['probability'].plot()"
   ]
  },
  {
   "cell_type": "code",
   "execution_count": null,
   "metadata": {
    "collapsed": true
   },
   "outputs": [],
   "source": []
  }
 ],
 "metadata": {
  "kernelspec": {
   "display_name": "Python 3",
   "language": "python",
   "name": "python3"
  },
  "language_info": {
   "codemirror_mode": {
    "name": "ipython",
    "version": 3
   },
   "file_extension": ".py",
   "mimetype": "text/x-python",
   "name": "python",
   "nbconvert_exporter": "python",
   "pygments_lexer": "ipython3",
   "version": "3.4.5"
  },
  "widgets": {
   "state": {},
   "version": "1.1.2"
  }
 },
 "nbformat": 4,
 "nbformat_minor": 0
}
