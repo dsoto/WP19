{
 "cells": [
  {
   "cell_type": "markdown",
   "metadata": {},
   "source": [
    "# Introduction\n",
    "\n",
    "We want to know what the distribution is in hours of electricity provided each night.\n",
    "This is similar to the work done in `2017-07-04-blackout-duration-details` but we want to look at uptime duration within a day.\n",
    "\n",
    "# Method\n",
    "\n",
    "- create a boolean of electricity availability using `create_uptime_boolean_timestamp`\n",
    "- aggregate boolean over each day to get uptime\n",
    "- plot CDF of uptimes\n",
    "\n",
    "# Notes\n",
    "\n",
    "- do I have a function that can do this?  what is the right algorithm?  is the presence of a time stamp enough?  (i think so)\n",
    "- data gaps are interpreted as downtime here\n",
    "- what is the best way to present these CDFs?\n",
    "- what is the best way to present the insight the CDFs supply?\n",
    "- what would this look like if I only considered days without data gaps?\n",
    "\n",
    "# Results\n",
    "\n",
    "- We can see the most frequent usage of 5 to 6 hours clearly in two microgrids\n",
    "\n",
    "# Next Work\n",
    "\n",
    "- look into start and end time variations with scatterplot for each period of service"
   ]
  },
  {
   "cell_type": "code",
   "execution_count": 1,
   "metadata": {},
   "outputs": [
    {
     "data": {
      "image/png": "[encoded data removed]",
      "text/plain": [
       "<matplotlib.figure.Figure at 0x10a4c4f28>"
      ]
     },
     "metadata": {},
     "output_type": "display_data"
    }
   ],
   "source": [
    "%load_ext autoreload\n",
    "\n",
    "%autoreload 2\n",
    "%matplotlib inline\n",
    "\n",
    "import pandas as pd\n",
    "import numpy as np\n",
    "import matplotlib.pyplot as plt\n",
    "import seaborn as sns\n",
    "import WP19_analysis as wpa\n",
    "\n",
    "fig, ax = plt.subplots()\n",
    "ax.set_xlabel('Hours of Service')\n",
    "ax.set_ylabel('Cumulative Fraction of Observations')\n",
    "for rfd in wpa.raw_file_data:\n",
    "    vname = rfd['village_name']\n",
    "    energy_data = wpa.load_timeseries_file(vname + '-clean.csv')\n",
    "    messages = wpa.load_message_file(vname + '-messages.csv')\n",
    "    uptimes = wpa.create_uptime_boolean_timestamp(energy_data)\n",
    "    uptimes = uptimes.groupby(uptimes.index.date).sum()/60\n",
    "    sns.distplot(uptimes, \n",
    "                 hist_kws={'cumulative':True,\n",
    "                           'histtype':'step',\n",
    "                           'linewidth':2},\n",
    "                kde=False,\n",
    "                norm_hist=True,\n",
    "                bins=100,\n",
    "                ax=ax)\n",
    "fig.savefig('../plots/uptime_CDF.png')"
   ]
  },
  {
   "cell_type": "code",
   "execution_count": null,
   "metadata": {
    "collapsed": true
   },
   "outputs": [],
   "source": []
  }
 ],
 "metadata": {
  "kernelspec": {
   "display_name": "Python 3",
   "language": "python",
   "name": "python3"
  },
  "language_info": {
   "codemirror_mode": {
    "name": "ipython",
    "version": 3
   },
   "file_extension": ".py",
   "mimetype": "text/x-python",
   "name": "python",
   "nbconvert_exporter": "python",
   "pygments_lexer": "ipython3",
   "version": "3.6.1"
  }
 },
 "nbformat": 4,
 "nbformat_minor": 2
}
