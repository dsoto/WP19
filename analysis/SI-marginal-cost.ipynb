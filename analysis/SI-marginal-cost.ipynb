{
 "cells": [
  {
   "cell_type": "markdown",
   "metadata": {},
   "source": [
    "# Author\n",
    "\n",
    "Daniel Soto\n",
    "\n",
    "# Introduction\n",
    "\n",
    "This notebook provides supplementary materials for the work related to marginal cost modeling and observations in a set of diesel microgrids.\n",
    "\n",
    "\n",
    "This notebook uses a mean of the individual regression results from generators to form a composite generator model of the form\n",
    "\n",
    "$$ \\textrm{Fuel Rate} = \\textrm{No-Load Consumption} + \\beta \\cdot P_L $$\n",
    "\n",
    "Where $\\beta$ is the marginal fuel rate per unit of delivered load and $P_L$ is the power delivered by the generator.\n",
    "\n",
    "This model is applied to the observed power data to predict the fuel use at the loads in the villages.\n"
   ]
  },
  {
   "cell_type": "code",
   "execution_count": 1,
   "metadata": {},
   "outputs": [],
   "source": [
    "%load_ext autoreload"
   ]
  },
  {
   "cell_type": "code",
   "execution_count": 2,
   "metadata": {},
   "outputs": [
    {
     "name": "stderr",
     "output_type": "stream",
     "text": [
      "/Users/dsoto/miniconda3/envs/wp19/lib/python3.6/site-packages/statsmodels/compat/pandas.py:56: FutureWarning: The pandas.core.datetools module is deprecated and will be removed in a future version. Please use the pandas.tseries module instead.\n",
      "  from pandas.core import datetools\n"
     ]
    }
   ],
   "source": [
    "%autoreload 2\n",
    "%matplotlib inline\n",
    "\n",
    "import pandas as pd\n",
    "import numpy as np\n",
    "import matplotlib.pyplot as plt\n",
    "import seaborn as sns\n",
    "import WP19_analysis as wpa\n",
    "import statsmodels.api as sm\n",
    "import tabulate"
   ]
  },
  {
   "cell_type": "markdown",
   "metadata": {},
   "source": [
    "# Generator Model"
   ]
  },
  {
   "cell_type": "code",
   "execution_count": 10,
   "metadata": {},
   "outputs": [
    {
     "name": "stdout",
     "output_type": "stream",
     "text": [
      "marginal fuel rate (lph) = 0.256012109187\n",
      "no load fuel consumption (lph) = 1.38541666667\n",
      "0.0189809767414\n",
      "0.642072382559\n",
      "0.074140933418\n",
      "0.463450742298\n"
     ]
    }
   ],
   "source": [
    "# load data and add a column for the delivered load in kVA rather than a percentage\n",
    "\n",
    "gen_data = pd.read_csv('../data_sheets/generator_data.csv', comment='#')\n",
    "gen_data['load_kVA'] = gen_data['rated_power_kVA'] * gen_data['percent_load'] / 100\n",
    "gen_data.head()\n",
    "\n",
    "# iterate over each model and perform a fit and show table of results\n",
    "\n",
    "generator_fits = []\n",
    "models = gen_data['model_number'].unique()\n",
    "for m in models:\n",
    "    model_data = gen_data[gen_data['model_number'] == m]\n",
    "    y = model_data['fuel_consumption_lph']\n",
    "    X = model_data['load_kVA']\n",
    "    X = sm.add_constant(X)\n",
    "    model = sm.OLS(y, X).fit()\n",
    "    generator_fits.append({'model': m,\n",
    "                           'rated_power_kVA':model_data['rated_power_kVA'].mean(), \n",
    "                           'no_load_consumption': model.params['const'],\n",
    "                           'fuel_coefficient': model.params['load_kVA'],\n",
    "                           'R-squared': model.rsquared})\n",
    "    \n",
    "generator_fits = pd.DataFrame(generator_fits)\n",
    "generator_fits\n",
    "\n",
    "marginal_fuel_rate = generator_fits['fuel_coefficient'].mean()\n",
    "no_load_fuel_rate = generator_fits['no_load_consumption'].mean()\n",
    "print('marginal fuel rate (lph) =', marginal_fuel_rate)\n",
    "print('no load fuel consumption (lph) =', no_load_fuel_rate)\n",
    "print(generator_fits['fuel_coefficient'].std())\n",
    "print(generator_fits['no_load_consumption'].std())\n",
    "print(generator_fits['fuel_coefficient'].std()/generator_fits['fuel_coefficient'].mean())\n",
    "print(generator_fits['no_load_consumption'].std()/generator_fits['no_load_consumption'].mean())\n",
    "\n",
    "def get_fuel_rate(load_power=None):\n",
    "    return load_power * marginal_fuel_rate + no_load_fuel_rate\n",
    "\n",
    "def get_SFC(load_power=None, fuel_rate=None):\n",
    "    return fuel_rate / load_power"
   ]
  },
  {
   "cell_type": "code",
   "execution_count": 4,
   "metadata": {},
   "outputs": [
    {
     "name": "stdout",
     "output_type": "stream",
     "text": [
      "Specific Fuel Consumption Duration Curves\n"
     ]
    },
    {
     "data": {
      "image/png": "[encoded data removed]",
      "text/plain": [
       "<matplotlib.figure.Figure at 0x10ea51cc0>"
      ]
     },
     "metadata": {},
     "output_type": "display_data"
    }
   ],
   "source": [
    "fig, ax = plt.subplots()\n",
    "for rfd in wpa.raw_file_data[2:]:\n",
    "    # load power data\n",
    "    vname = rfd['village_name']\n",
    "    energy_data = wpa.load_timeseries_file(vname + '-clean.csv')\n",
    "    kVA = energy_data['kVA sliding window Demand'].dropna().values\n",
    "    kVA = kVA[kVA != 0.0]\n",
    "    # create SFC timeseries from load data\n",
    "    fuel_rate = get_fuel_rate(load_power=kVA)\n",
    "    fuel_per_kVA_hour = get_SFC(load_power=kVA, fuel_rate=fuel_rate)\n",
    "    # sort and reverse for duration curve\n",
    "    fuel_per_kVA_hour.sort()\n",
    "    fuel_per_kVA_hour = fuel_per_kVA_hour[::-1]\n",
    "    index = np.linspace(0, 1, len(fuel_per_kVA_hour))\n",
    "    plt.plot(index, fuel_per_kVA_hour,\n",
    "             label=vname)\n",
    "\n",
    "print('Specific Fuel Consumption Duration Curves')\n",
    "plt.legend()\n",
    "plt.xlabel('Fraction of Running Time')\n",
    "plt.ylabel('Specific Fuel Consumption (liter per kVA-hour)')\n",
    "plt.ylim((0,2))\n",
    "plt.savefig('../plots/specific_fuel_consumption_duration.png')\n",
    "plt.show()"
   ]
  },
  {
   "cell_type": "code",
   "execution_count": 5,
   "metadata": {},
   "outputs": [
    {
     "data": {
      "text/html": [
       "<div>\n",
       "<style>\n",
       "    .dataframe thead tr:only-child th {\n",
       "        text-align: right;\n",
       "    }\n",
       "\n",
       "    .dataframe thead th {\n",
       "        text-align: left;\n",
       "    }\n",
       "\n",
       "    .dataframe tbody tr th {\n",
       "        vertical-align: top;\n",
       "    }\n",
       "</style>\n",
       "<table border=\"1\" class=\"dataframe\">\n",
       "  <thead>\n",
       "    <tr style=\"text-align: right;\">\n",
       "      <th></th>\n",
       "      <th>Village</th>\n",
       "      <th>Genset rating (kVA)</th>\n",
       "      <th>mean load (kVA)</th>\n",
       "      <th>expected fuel rate at 100% (lph)</th>\n",
       "      <th>expected fuel rate at mean load (lph)</th>\n",
       "      <th>Expected specific fuel consumption at 100% load (lpkVA)</th>\n",
       "      <th>Expected specific fuel consumption at mean load (lpkVA)</th>\n",
       "    </tr>\n",
       "  </thead>\n",
       "  <tbody>\n",
       "    <tr>\n",
       "      <th>0</th>\n",
       "      <td>Atamali</td>\n",
       "      <td>25.0</td>\n",
       "      <td>3.057530</td>\n",
       "      <td>7.785719</td>\n",
       "      <td>2.168181</td>\n",
       "      <td>0.311429</td>\n",
       "      <td>0.709128</td>\n",
       "    </tr>\n",
       "    <tr>\n",
       "      <th>1</th>\n",
       "      <td>Ayapo</td>\n",
       "      <td>40.0</td>\n",
       "      <td>14.323494</td>\n",
       "      <td>11.625901</td>\n",
       "      <td>5.052404</td>\n",
       "      <td>0.290648</td>\n",
       "      <td>0.352735</td>\n",
       "    </tr>\n",
       "    <tr>\n",
       "      <th>2</th>\n",
       "      <td>Kensio</td>\n",
       "      <td>35.0</td>\n",
       "      <td>2.451428</td>\n",
       "      <td>10.345840</td>\n",
       "      <td>2.013012</td>\n",
       "      <td>0.295595</td>\n",
       "      <td>0.821159</td>\n",
       "    </tr>\n",
       "  </tbody>\n",
       "</table>\n",
       "</div>"
      ],
      "text/plain": [
       "   Village  Genset rating (kVA)  mean load (kVA)  \\\n",
       "0  Atamali                 25.0         3.057530   \n",
       "1    Ayapo                 40.0        14.323494   \n",
       "2   Kensio                 35.0         2.451428   \n",
       "\n",
       "   expected fuel rate at 100% (lph)  expected fuel rate at mean load (lph)  \\\n",
       "0                          7.785719                               2.168181   \n",
       "1                         11.625901                               5.052404   \n",
       "2                         10.345840                               2.013012   \n",
       "\n",
       "   Expected specific fuel consumption at 100% load (lpkVA)  \\\n",
       "0                                           0.311429         \n",
       "1                                           0.290648         \n",
       "2                                           0.295595         \n",
       "\n",
       "   Expected specific fuel consumption at mean load (lpkVA)  \n",
       "0                                           0.709128        \n",
       "1                                           0.352735        \n",
       "2                                           0.821159        "
      ]
     },
     "execution_count": 5,
     "metadata": {},
     "output_type": "execute_result"
    }
   ],
   "source": [
    "tmp_data = []\n",
    "for rfd in wpa.raw_file_data[2:]:\n",
    "    vname = rfd['village_name']\n",
    "    energy_data = wpa.load_timeseries_file(vname + '-clean.csv')\n",
    "    kVA = energy_data['kVA sliding window Demand'].dropna().values\n",
    "    kVA = kVA[kVA != 0.0]\n",
    "    mean_kVA = kVA.mean()\n",
    "    rated_load = rfd['genset_rating_kVA']\n",
    "    #load = rating * 1.0\n",
    "    #specific_fuel_consumption_100 = get_fuel_rate(rating, load) / load \n",
    "    SFC_100 = get_SFC(fuel_rate=get_fuel_rate(load_power=rated_load), load_power=rated_load)\n",
    "    mean_load = mean_kVA\n",
    "    #specific_fuel_consumption_mean = get_fuel_rate(rating, load) / load\n",
    "    SFC_mean = get_SFC(fuel_rate=get_fuel_rate(load_power=mean_load), load_power=mean_load)\n",
    "    tmp_data.append({'Village' : vname.title(),\n",
    "                 'Genset rating (kVA)' : rfd['genset_rating_kVA'],\n",
    "                 'expected fuel rate at 100% (lph)' : get_fuel_rate(load_power=rated_load),\n",
    "                 'mean load (kVA)' : mean_load,\n",
    "                'expected fuel rate at mean load (lph)' : get_fuel_rate(load_power=mean_load),\n",
    "                'Expected specific fuel consumption at 100% load (lpkVA)': SFC_100,\n",
    "                'Expected specific fuel consumption at mean load (lpkVA)': SFC_mean,\n",
    "                })\n",
    "\n",
    "data = pd.DataFrame(tmp_data)\n",
    "#data = data.set_index(['village'])\n",
    "#data = data[['genset rating kVA', \n",
    "#             'expected fuel rate at 100% (lph)', \n",
    "#             'mean load (kVA)',\n",
    "#             'expected fuel rate at mean load (lph)']]\n",
    "data = data[['Village', \n",
    "             'Genset rating (kVA)', \n",
    "             'mean load (kVA)',\n",
    "             'expected fuel rate at 100% (lph)',\n",
    "             'expected fuel rate at mean load (lph)',\n",
    "             'Expected specific fuel consumption at 100% load (lpkVA)',\n",
    "             'Expected specific fuel consumption at mean load (lpkVA)']]\n",
    "\n",
    "data"
   ]
  },
  {
   "cell_type": "code",
   "execution_count": 6,
   "metadata": {},
   "outputs": [
    {
     "name": "stdout",
     "output_type": "stream",
     "text": [
      "| Village   |   Genset rating (kVA) |   Expected specific fuel consumption at 100% load (lpkVA) |   Expected specific fuel consumption at mean load (lpkVA) |\n",
      "|:----------|----------------------:|----------------------------------------------------------:|----------------------------------------------------------:|\n",
      "| Atamali   |                    25 |                                                     0.311 |                                                     0.709 |\n",
      "| Ayapo     |                    40 |                                                     0.291 |                                                     0.353 |\n",
      "| Kensio    |                    35 |                                                     0.296 |                                                     0.821 |\n"
     ]
    },
    {
     "data": {
      "text/html": [
       "<div>\n",
       "<style>\n",
       "    .dataframe thead tr:only-child th {\n",
       "        text-align: right;\n",
       "    }\n",
       "\n",
       "    .dataframe thead th {\n",
       "        text-align: left;\n",
       "    }\n",
       "\n",
       "    .dataframe tbody tr th {\n",
       "        vertical-align: top;\n",
       "    }\n",
       "</style>\n",
       "<table border=\"1\" class=\"dataframe\">\n",
       "  <thead>\n",
       "    <tr style=\"text-align: right;\">\n",
       "      <th></th>\n",
       "      <th>Village</th>\n",
       "      <th>Genset rating (kVA)</th>\n",
       "      <th>Expected specific fuel consumption at 100% load (lpkVA)</th>\n",
       "      <th>Expected specific fuel consumption at mean load (lpkVA)</th>\n",
       "    </tr>\n",
       "  </thead>\n",
       "  <tbody>\n",
       "    <tr>\n",
       "      <th>0</th>\n",
       "      <td>Atamali</td>\n",
       "      <td>25.0</td>\n",
       "      <td>0.311429</td>\n",
       "      <td>0.709128</td>\n",
       "    </tr>\n",
       "    <tr>\n",
       "      <th>1</th>\n",
       "      <td>Ayapo</td>\n",
       "      <td>40.0</td>\n",
       "      <td>0.290648</td>\n",
       "      <td>0.352735</td>\n",
       "    </tr>\n",
       "    <tr>\n",
       "      <th>2</th>\n",
       "      <td>Kensio</td>\n",
       "      <td>35.0</td>\n",
       "      <td>0.295595</td>\n",
       "      <td>0.821159</td>\n",
       "    </tr>\n",
       "  </tbody>\n",
       "</table>\n",
       "</div>"
      ],
      "text/plain": [
       "   Village  Genset rating (kVA)  \\\n",
       "0  Atamali                 25.0   \n",
       "1    Ayapo                 40.0   \n",
       "2   Kensio                 35.0   \n",
       "\n",
       "   Expected specific fuel consumption at 100% load (lpkVA)  \\\n",
       "0                                           0.311429         \n",
       "1                                           0.290648         \n",
       "2                                           0.295595         \n",
       "\n",
       "   Expected specific fuel consumption at mean load (lpkVA)  \n",
       "0                                           0.709128        \n",
       "1                                           0.352735        \n",
       "2                                           0.821159        "
      ]
     },
     "execution_count": 6,
     "metadata": {},
     "output_type": "execute_result"
    }
   ],
   "source": [
    "# prepare table for manuscript\n",
    "\n",
    "data = data[['Village', \n",
    "             'Genset rating (kVA)', \n",
    "             'Expected specific fuel consumption at 100% load (lpkVA)',\n",
    "             'Expected specific fuel consumption at mean load (lpkVA)']]\n",
    "\n",
    "table_string = tabulate.tabulate(data, tablefmt='pipe', floatfmt='.3g', headers=data.columns, showindex=False)\n",
    "\n",
    "print(table_string)\n",
    "\n",
    "with open('../tables/modeled_SFC.md', 'w') as f:\n",
    "    f.write(table_string)\n",
    "    \n",
    "data"
   ]
  },
  {
   "cell_type": "markdown",
   "metadata": {},
   "source": [
    "# TODO: organize materials below"
   ]
  },
  {
   "cell_type": "code",
   "execution_count": 5,
   "metadata": {},
   "outputs": [
    {
     "data": {
      "image/png": "[encoded data removed]",
      "text/plain": [
       "<matplotlib.figure.Figure at 0x1166f0940>"
      ]
     },
     "metadata": {},
     "output_type": "display_data"
    }
   ],
   "source": [
    "# plot fuel consumption for each village compared to load\n",
    "fig, ax = plt.subplots()\n",
    "for rfd in wpa.raw_file_data[2:]:\n",
    "    vname = rfd['village_name']\n",
    "    load = np.linspace(0, 1, 2) * rfd['genset_rating_kVA']\n",
    "    power = rfd['genset_rating_kVA']\n",
    "    y = get_fuel_rate(power, load)\n",
    "    plt.plot(load, y, label=vname + ' ' + str(rfd['genset_rating_kVA']))\n",
    "    \n",
    "plt.legend()\n",
    "plt.ylim((0, 12))\n",
    "plt.xlabel('Generator Load (kVA)')\n",
    "plt.ylabel('Fuel Consumption (liters per hour)')\n",
    "plt.show()"
   ]
  },
  {
   "cell_type": "code",
   "execution_count": 6,
   "metadata": {},
   "outputs": [
    {
     "name": "stdout",
     "output_type": "stream",
     "text": [
      "Generator Specific Fuel Consumption\n"
     ]
    },
    {
     "data": {
      "image/png": "[encoded data removed]",
      "text/plain": [
       "<matplotlib.figure.Figure at 0x1167c6860>"
      ]
     },
     "metadata": {},
     "output_type": "display_data"
    }
   ],
   "source": [
    "# plot specific fuel consumption for each generator\n",
    "\n",
    "max_load = 20.0\n",
    "\n",
    "fig, ax = plt.subplots()\n",
    "for rfd in wpa.raw_file_data[2:]:\n",
    "    vname = rfd['village_name']\n",
    "    load = np.linspace(0.05, 1.0, 100) * max_load\n",
    "    hours = 1.0\n",
    "    load_hours = load * hours\n",
    "    fuel_rate = get_fuel_rate(rfd['genset_rating_kVA'], load)\n",
    "    fuel = fuel_rate * hours\n",
    "    heat_rate = fuel / load_hours\n",
    "    plt.plot(load, heat_rate, label=vname + ' ' + str(rfd['genset_rating_kVA']))\n",
    "\n",
    "print('Generator Specific Fuel Consumption')\n",
    "plt.xlim((0, max_load))\n",
    "plt.ylim((0, 1.5))\n",
    "#plt.ylim((0, 0.4))\n",
    "plt.legend()\n",
    "plt.xlabel('Generator Load (kVA)')\n",
    "plt.ylabel('liters per kVA-hour')\n",
    "plt.show()"
   ]
  },
  {
   "cell_type": "code",
   "execution_count": null,
   "metadata": {
    "collapsed": true
   },
   "outputs": [],
   "source": []
  },
  {
   "cell_type": "code",
   "execution_count": 7,
   "metadata": {},
   "outputs": [
    {
     "name": "stdout",
     "output_type": "stream",
     "text": [
      "Load Duration Curves (kVA)\n"
     ]
    },
    {
     "data": {
      "image/png": "[encoded data removed]",
      "text/plain": [
       "<matplotlib.figure.Figure at 0x1167cb898>"
      ]
     },
     "metadata": {},
     "output_type": "display_data"
    }
   ],
   "source": [
    "fig, ax = plt.subplots()\n",
    "for rfd in wpa.raw_file_data[2:]:\n",
    "    vname = rfd['village_name']\n",
    "    energy_data = wpa.load_timeseries_file(vname + '-clean.csv')\n",
    "    kVA = energy_data['kVA sliding window Demand'].dropna().values\n",
    "    kVA = kVA[kVA != 0.0]\n",
    "    kVA.sort()\n",
    "    kVA = kVA[::-1]\n",
    "    index = np.linspace(0, 1, len(kVA))\n",
    "    plt.plot(index, kVA, label=vname)\n",
    "\n",
    "print('Load Duration Curves (kVA)')\n",
    "plt.legend()\n",
    "plt.xlabel('Fraction of time running')\n",
    "plt.ylabel('Load (kVA)')\n",
    "plt.show()"
   ]
  },
  {
   "cell_type": "code",
   "execution_count": 8,
   "metadata": {},
   "outputs": [
    {
     "name": "stdout",
     "output_type": "stream",
     "text": [
      "Load Duration Curves (percent rated load)\n"
     ]
    },
    {
     "data": {
      "image/png": "[encoded data removed]",
      "text/plain": [
       "<matplotlib.figure.Figure at 0x1169c7128>"
      ]
     },
     "metadata": {},
     "output_type": "display_data"
    }
   ],
   "source": [
    "fig, ax = plt.subplots()\n",
    "for rfd in wpa.raw_file_data[2:]:\n",
    "    vname = rfd['village_name']\n",
    "    energy_data = wpa.load_timeseries_file(vname + '-clean.csv')\n",
    "    kVA = energy_data['kVA sliding window Demand'].dropna().values\n",
    "    kVA = kVA / rfd['genset_rating_kVA']\n",
    "    kVA = kVA[kVA != 0.0]\n",
    "    kVA.sort()\n",
    "    kVA = kVA[::-1]\n",
    "    index = np.linspace(0, 1, len(kVA))\n",
    "    plt.plot(index, kVA, label=vname)\n",
    "\n",
    "print('Load Duration Curves (percent rated load)')\n",
    "plt.legend()\n",
    "plt.xlabel('Fraction of time running')\n",
    "plt.ylabel('Percent of rated load')\n",
    "plt.show()"
   ]
  },
  {
   "cell_type": "code",
   "execution_count": 9,
   "metadata": {},
   "outputs": [
    {
     "name": "stdout",
     "output_type": "stream",
     "text": [
      "Specific Fuel Consumption Duration Curves\n"
     ]
    },
    {
     "data": {
      "image/png": "[encoded data removed]",
      "text/plain": [
       "<matplotlib.figure.Figure at 0x116c61780>"
      ]
     },
     "metadata": {},
     "output_type": "display_data"
    }
   ],
   "source": [
    "fig, ax = plt.subplots()\n",
    "for rfd in wpa.raw_file_data[2:]:\n",
    "    vname = rfd['village_name']\n",
    "    energy_data = wpa.load_timeseries_file(vname + '-clean.csv')\n",
    "    kVA = energy_data['kVA sliding window Demand'].dropna().values\n",
    "    kVA = kVA[kVA != 0.0]\n",
    "    # create fuel rate time series from kVA data\n",
    "    fuel_rate = get_fuel_rate(rfd['genset_rating_kVA'], kVA)\n",
    "    fuel_per_kVA_hour = fuel_rate / kVA\n",
    "    fuel_per_kVA_hour.sort()\n",
    "    fuel_per_kVA_hour = fuel_per_kVA_hour[::-1]\n",
    "    index = np.linspace(0, 1, len(fuel_per_kVA_hour))\n",
    "    plt.plot(index, fuel_per_kVA_hour,\n",
    "             label=vname)\n",
    "\n",
    "print('Specific Fuel Consumption Duration Curves')\n",
    "plt.legend()\n",
    "plt.xlabel('Fraction of Running Time')\n",
    "plt.ylabel('Specific Fuel Consumption (liter per kVA-hour)')\n",
    "plt.ylim((0,2))\n",
    "plt.savefig('../plots/specific_fuel_consumption_duration.png')\n",
    "plt.show()\n"
   ]
  },
  {
   "cell_type": "code",
   "execution_count": 10,
   "metadata": {},
   "outputs": [
    {
     "data": {
      "text/html": [
       "<div>\n",
       "<style>\n",
       "    .dataframe thead tr:only-child th {\n",
       "        text-align: right;\n",
       "    }\n",
       "\n",
       "    .dataframe thead th {\n",
       "        text-align: left;\n",
       "    }\n",
       "\n",
       "    .dataframe tbody tr th {\n",
       "        vertical-align: top;\n",
       "    }\n",
       "</style>\n",
       "<table border=\"1\" class=\"dataframe\">\n",
       "  <thead>\n",
       "    <tr style=\"text-align: right;\">\n",
       "      <th></th>\n",
       "      <th>capacity</th>\n",
       "      <th>max fuel per kVA</th>\n",
       "      <th>max fuel rate</th>\n",
       "      <th>max kVA</th>\n",
       "      <th>mean fuel per kVA</th>\n",
       "      <th>min fuel per kVA</th>\n",
       "      <th>min fuel rate</th>\n",
       "      <th>min kVA</th>\n",
       "      <th>village</th>\n",
       "    </tr>\n",
       "  </thead>\n",
       "  <tbody>\n",
       "    <tr>\n",
       "      <th>0</th>\n",
       "      <td>25.0</td>\n",
       "      <td>0.757176</td>\n",
       "      <td>1.463800</td>\n",
       "      <td>3.884</td>\n",
       "      <td>0.407578</td>\n",
       "      <td>0.376880</td>\n",
       "      <td>0.645114</td>\n",
       "      <td>0.852</td>\n",
       "      <td>atamali</td>\n",
       "    </tr>\n",
       "    <tr>\n",
       "      <th>1</th>\n",
       "      <td>40.0</td>\n",
       "      <td>0.410306</td>\n",
       "      <td>5.905758</td>\n",
       "      <td>17.041</td>\n",
       "      <td>0.361626</td>\n",
       "      <td>0.346562</td>\n",
       "      <td>3.815028</td>\n",
       "      <td>9.298</td>\n",
       "      <td>ayapo</td>\n",
       "    </tr>\n",
       "    <tr>\n",
       "      <th>2</th>\n",
       "      <td>35.0</td>\n",
       "      <td>9.433381</td>\n",
       "      <td>1.886330</td>\n",
       "      <td>3.253</td>\n",
       "      <td>0.949917</td>\n",
       "      <td>0.579874</td>\n",
       "      <td>1.037672</td>\n",
       "      <td>0.110</td>\n",
       "      <td>kensio</td>\n",
       "    </tr>\n",
       "  </tbody>\n",
       "</table>\n",
       "</div>"
      ],
      "text/plain": [
       "   capacity  max fuel per kVA  max fuel rate  max kVA  mean fuel per kVA  \\\n",
       "0      25.0          0.757176       1.463800    3.884           0.407578   \n",
       "1      40.0          0.410306       5.905758   17.041           0.361626   \n",
       "2      35.0          9.433381       1.886330    3.253           0.949917   \n",
       "\n",
       "   min fuel per kVA  min fuel rate  min kVA  village  \n",
       "0          0.376880       0.645114    0.852  atamali  \n",
       "1          0.346562       3.815028    9.298    ayapo  \n",
       "2          0.579874       1.037672    0.110   kensio  "
      ]
     },
     "execution_count": 10,
     "metadata": {},
     "output_type": "execute_result"
    }
   ],
   "source": [
    "data = []\n",
    "for rfd in wpa.raw_file_data[2:]:\n",
    "    vname = rfd['village_name']\n",
    "    energy_data = wpa.load_timeseries_file(vname + '-clean.csv')\n",
    "    kVA = energy_data['kVA sliding window Demand'].dropna().values\n",
    "    kVA = kVA[kVA != 0.0]\n",
    "    fuel_rate = get_fuel_rate(rfd['genset_rating_kVA'], kVA)\n",
    "    fuel_per_kVA_hour = fuel_rate / kVA\n",
    "    data.append({'village' : vname,\n",
    "                 'max fuel rate' : fuel_rate.max(),\n",
    "                 'min fuel rate' : fuel_rate.min(),\n",
    "                 'max fuel per kVA' : fuel_per_kVA_hour.max(),\n",
    "                 'min fuel per kVA' : fuel_per_kVA_hour.min(),\n",
    "                 'mean fuel per kVA' : fuel_per_kVA_hour.mean(),\n",
    "                 'max kVA' : kVA.max(),\n",
    "                 'min kVA' : kVA.min(),\n",
    "                 'capacity' : rfd['genset_rating_kVA']})\n",
    "pd.DataFrame(data)"
   ]
  },
  {
   "cell_type": "code",
   "execution_count": 11,
   "metadata": {},
   "outputs": [
    {
     "name": "stdout",
     "output_type": "stream",
     "text": [
      "|         |   genset rating kVA |   expected fuel rate at 100% (lph) |   mean load (kVA) |   expected fuel rate at mean load (lph) |\n",
      "|:--------|--------------------:|-----------------------------------:|------------------:|----------------------------------------:|\n",
      "| atamali |                  25 |                            7.16545 |           3.05753 |                                 1.24064 |\n",
      "| ayapo   |                  40 |                           12.105   |          14.3235  |                                 5.17199 |\n",
      "| kensio  |                  35 |                           10.4585  |           2.45143 |                                 1.66989 |\n"
     ]
    },
    {
     "data": {
      "text/html": [
       "<div>\n",
       "<style>\n",
       "    .dataframe thead tr:only-child th {\n",
       "        text-align: right;\n",
       "    }\n",
       "\n",
       "    .dataframe thead th {\n",
       "        text-align: left;\n",
       "    }\n",
       "\n",
       "    .dataframe tbody tr th {\n",
       "        vertical-align: top;\n",
       "    }\n",
       "</style>\n",
       "<table border=\"1\" class=\"dataframe\">\n",
       "  <thead>\n",
       "    <tr style=\"text-align: right;\">\n",
       "      <th></th>\n",
       "      <th>genset rating kVA</th>\n",
       "      <th>expected fuel rate at 100% (lph)</th>\n",
       "      <th>mean load (kVA)</th>\n",
       "      <th>expected fuel rate at mean load (lph)</th>\n",
       "    </tr>\n",
       "    <tr>\n",
       "      <th>village</th>\n",
       "      <th></th>\n",
       "      <th></th>\n",
       "      <th></th>\n",
       "      <th></th>\n",
       "    </tr>\n",
       "  </thead>\n",
       "  <tbody>\n",
       "    <tr>\n",
       "      <th>atamali</th>\n",
       "      <td>25.0</td>\n",
       "      <td>7.165446</td>\n",
       "      <td>3.057530</td>\n",
       "      <td>1.240641</td>\n",
       "    </tr>\n",
       "    <tr>\n",
       "      <th>ayapo</th>\n",
       "      <td>40.0</td>\n",
       "      <td>12.105042</td>\n",
       "      <td>14.323494</td>\n",
       "      <td>5.171989</td>\n",
       "    </tr>\n",
       "    <tr>\n",
       "      <th>kensio</th>\n",
       "      <td>35.0</td>\n",
       "      <td>10.458510</td>\n",
       "      <td>2.451428</td>\n",
       "      <td>1.669893</td>\n",
       "    </tr>\n",
       "  </tbody>\n",
       "</table>\n",
       "</div>"
      ],
      "text/plain": [
       "         genset rating kVA  expected fuel rate at 100% (lph)  mean load (kVA)  \\\n",
       "village                                                                         \n",
       "atamali               25.0                          7.165446         3.057530   \n",
       "ayapo                 40.0                         12.105042        14.323494   \n",
       "kensio                35.0                         10.458510         2.451428   \n",
       "\n",
       "         expected fuel rate at mean load (lph)  \n",
       "village                                         \n",
       "atamali                               1.240641  \n",
       "ayapo                                 5.171989  \n",
       "kensio                                1.669893  "
      ]
     },
     "execution_count": 11,
     "metadata": {},
     "output_type": "execute_result"
    }
   ],
   "source": [
    "data = []\n",
    "for rfd in wpa.raw_file_data[2:]:\n",
    "    vname = rfd['village_name']\n",
    "    energy_data = wpa.load_timeseries_file(vname + '-clean.csv')\n",
    "    kVA = energy_data['kVA sliding window Demand'].dropna().values\n",
    "    kVA = kVA[kVA != 0.0]\n",
    "    mean_kVA = kVA.mean()\n",
    "    data.append({'village' : vname,\n",
    "                 'genset rating kVA' : rfd['genset_rating_kVA'],\n",
    "                 'expected fuel rate at 100% (lph)' : get_fuel_rate(rfd['genset_rating_kVA'], rfd['genset_rating_kVA'] * 1.0),\n",
    "                 'mean load (kVA)' : mean_kVA,\n",
    "                'expected fuel rate at mean load (lph)' : get_fuel_rate(rfd['genset_rating_kVA'], mean_kVA),\n",
    "              \n",
    "                })\n",
    "\n",
    "data = pd.DataFrame(data)\n",
    "data = data.set_index(['village'])\n",
    "data = data[['genset rating kVA', \n",
    "             'expected fuel rate at 100% (lph)', \n",
    "             'mean load (kVA)',\n",
    "             'expected fuel rate at mean load (lph)']]\n",
    "\n",
    "print(tabulate.tabulate(data, tablefmt='pipe', headers=data.columns))\n",
    "data"
   ]
  },
  {
   "cell_type": "code",
   "execution_count": 15,
   "metadata": {},
   "outputs": [
    {
     "name": "stdout",
     "output_type": "stream",
     "text": [
      "| Village   |   Genset rating (kVA) |   Expected specific fuel consumption at 100% load (lpkVA) |   Expected specific fuel consumption at mean load (lpkVA) |\n",
      "|:----------|----------------------:|----------------------------------------------------------:|----------------------------------------------------------:|\n",
      "| Atamali   |                    25 |                                                     0.287 |                                                     0.406 |\n",
      "| Ayapo     |                    40 |                                                     0.303 |                                                     0.361 |\n",
      "| Kensio    |                    35 |                                                     0.299 |                                                     0.681 |\n"
     ]
    },
    {
     "data": {
      "text/html": [
       "<div>\n",
       "<style>\n",
       "    .dataframe thead tr:only-child th {\n",
       "        text-align: right;\n",
       "    }\n",
       "\n",
       "    .dataframe thead th {\n",
       "        text-align: left;\n",
       "    }\n",
       "\n",
       "    .dataframe tbody tr th {\n",
       "        vertical-align: top;\n",
       "    }\n",
       "</style>\n",
       "<table border=\"1\" class=\"dataframe\">\n",
       "  <thead>\n",
       "    <tr style=\"text-align: right;\">\n",
       "      <th></th>\n",
       "      <th>Village</th>\n",
       "      <th>Genset rating (kVA)</th>\n",
       "      <th>Expected specific fuel consumption at 100% load (lpkVA)</th>\n",
       "      <th>Expected specific fuel consumption at mean load (lpkVA)</th>\n",
       "    </tr>\n",
       "  </thead>\n",
       "  <tbody>\n",
       "    <tr>\n",
       "      <th>0</th>\n",
       "      <td>Atamali</td>\n",
       "      <td>25.0</td>\n",
       "      <td>0.286618</td>\n",
       "      <td>0.405766</td>\n",
       "    </tr>\n",
       "    <tr>\n",
       "      <th>1</th>\n",
       "      <td>Ayapo</td>\n",
       "      <td>40.0</td>\n",
       "      <td>0.302626</td>\n",
       "      <td>0.361084</td>\n",
       "    </tr>\n",
       "    <tr>\n",
       "      <th>2</th>\n",
       "      <td>Kensio</td>\n",
       "      <td>35.0</td>\n",
       "      <td>0.298815</td>\n",
       "      <td>0.681192</td>\n",
       "    </tr>\n",
       "  </tbody>\n",
       "</table>\n",
       "</div>"
      ],
      "text/plain": [
       "   Village  Genset rating (kVA)  \\\n",
       "0  Atamali                 25.0   \n",
       "1    Ayapo                 40.0   \n",
       "2   Kensio                 35.0   \n",
       "\n",
       "   Expected specific fuel consumption at 100% load (lpkVA)  \\\n",
       "0                                           0.286618         \n",
       "1                                           0.302626         \n",
       "2                                           0.298815         \n",
       "\n",
       "   Expected specific fuel consumption at mean load (lpkVA)  \n",
       "0                                           0.405766        \n",
       "1                                           0.361084        \n",
       "2                                           0.681192        "
      ]
     },
     "execution_count": 15,
     "metadata": {},
     "output_type": "execute_result"
    }
   ],
   "source": [
    "data = []\n",
    "for rfd in wpa.raw_file_data[2:]:\n",
    "    vname = rfd['village_name']\n",
    "    energy_data = wpa.load_timeseries_file(vname + '-clean.csv')\n",
    "    kVA = energy_data['kVA sliding window Demand'].dropna().values\n",
    "    kVA = kVA[kVA != 0.0]\n",
    "    mean_kVA = kVA.mean()\n",
    "    rating = rfd['genset_rating_kVA']\n",
    "    load = rating * 1.0\n",
    "    specific_fuel_consumption_100 = get_fuel_rate(rating, load) / load \n",
    "    load = mean_kVA\n",
    "    specific_fuel_consumption_mean = get_fuel_rate(rating, load) / load  \n",
    "    data.append({'Village' : vname.title(),\n",
    "                 'Genset rating (kVA)' : rfd['genset_rating_kVA'],\n",
    "                 #'expected fuel rate at 100% (lph)' : get_fuel_rate(rfd['genset_rating_kVA'], rfd['genset_rating_kVA'] * 1.0),\n",
    "                 #'mean load (kVA)' : mean_kVA,\n",
    "                #'expected fuel rate at mean load (lph)' : get_fuel_rate(rfd['genset_rating_kVA'], mean_kVA),\n",
    "                'Expected specific fuel consumption at 100% load (lpkVA)': specific_fuel_consumption_100,\n",
    "                'Expected specific fuel consumption at mean load (lpkVA)': specific_fuel_consumption_mean,\n",
    "                })\n",
    "\n",
    "data = pd.DataFrame(data)\n",
    "#data = data.set_index(['village'])\n",
    "#data = data[['genset rating kVA', \n",
    "#             'expected fuel rate at 100% (lph)', \n",
    "#             'mean load (kVA)',\n",
    "#             'expected fuel rate at mean load (lph)']]\n",
    "data = data[['Village', \n",
    "             'Genset rating (kVA)', \n",
    "             'Expected specific fuel consumption at 100% load (lpkVA)',\n",
    "             'Expected specific fuel consumption at mean load (lpkVA)']]\n",
    "\n",
    "table_string = tabulate.tabulate(data, tablefmt='pipe', floatfmt='.3g', headers=data.columns, showindex=False)\n",
    "\n",
    "print(table_string)\n",
    "\n",
    "#with open('../tables/modeled_SFC.md', 'w') as f:\n",
    "#    f.write(table_string)\n",
    "    \n",
    "data"
   ]
  },
  {
   "cell_type": "code",
   "execution_count": 13,
   "metadata": {
    "collapsed": true
   },
   "outputs": [],
   "source": [
    "# observed specific fuel consumption\n",
    "\n",
    "data_zf = {}\n",
    "for rfd in wpa.raw_file_data[2:]:\n",
    "    vname = rfd['village_name']\n",
    "    energy_data = wpa.load_timeseries_file(vname + '-clean.csv')\n",
    "    messages = wpa.load_message_file(vname + '-messages.csv')\n",
    "    # zero filled data\n",
    "    data_zf[vname] = wpa.insert_zeros_energy(energy_data, messages)"
   ]
  },
  {
   "cell_type": "code",
   "execution_count": 14,
   "metadata": {},
   "outputs": [
    {
     "name": "stdout",
     "output_type": "stream",
     "text": [
      "| Village   |   Observed daily fuel (liters per day) |   Mean Energy on Operating Days (kWh) |   Observed SFC (lpkWh) |\n",
      "|:----------|---------------------------------------:|--------------------------------------:|-----------------------:|\n",
      "| Atamali   |                                     30 |                                 15.2  |                  1.97  |\n",
      "| Ayapo     |                                     60 |                                 90    |                  0.667 |\n",
      "| Kensio    |                                     15 |                                  9.12 |                  1.64  |\n"
     ]
    },
    {
     "data": {
      "text/html": [
       "<div>\n",
       "<style>\n",
       "    .dataframe thead tr:only-child th {\n",
       "        text-align: right;\n",
       "    }\n",
       "\n",
       "    .dataframe thead th {\n",
       "        text-align: left;\n",
       "    }\n",
       "\n",
       "    .dataframe tbody tr th {\n",
       "        vertical-align: top;\n",
       "    }\n",
       "</style>\n",
       "<table border=\"1\" class=\"dataframe\">\n",
       "  <thead>\n",
       "    <tr style=\"text-align: right;\">\n",
       "      <th></th>\n",
       "      <th>Village</th>\n",
       "      <th>Observed daily fuel (liters per day)</th>\n",
       "      <th>Mean Energy on Operating Days (kWh)</th>\n",
       "      <th>Observed SFC (lpkWh)</th>\n",
       "    </tr>\n",
       "  </thead>\n",
       "  <tbody>\n",
       "    <tr>\n",
       "      <th>0</th>\n",
       "      <td>Atamali</td>\n",
       "      <td>30</td>\n",
       "      <td>15.212963</td>\n",
       "      <td>1.972002</td>\n",
       "    </tr>\n",
       "    <tr>\n",
       "      <th>1</th>\n",
       "      <td>Ayapo</td>\n",
       "      <td>60</td>\n",
       "      <td>90.009091</td>\n",
       "      <td>0.666599</td>\n",
       "    </tr>\n",
       "    <tr>\n",
       "      <th>2</th>\n",
       "      <td>Kensio</td>\n",
       "      <td>15</td>\n",
       "      <td>9.122807</td>\n",
       "      <td>1.644231</td>\n",
       "    </tr>\n",
       "  </tbody>\n",
       "</table>\n",
       "</div>"
      ],
      "text/plain": [
       "   Village  Observed daily fuel (liters per day)  \\\n",
       "0  Atamali                                    30   \n",
       "1    Ayapo                                    60   \n",
       "2   Kensio                                    15   \n",
       "\n",
       "   Mean Energy on Operating Days (kWh)  Observed SFC (lpkWh)  \n",
       "0                            15.212963              1.972002  \n",
       "1                            90.009091              0.666599  \n",
       "2                             9.122807              1.644231  "
      ]
     },
     "execution_count": 14,
     "metadata": {},
     "output_type": "execute_result"
    }
   ],
   "source": [
    "data = []\n",
    "for rfd in wpa.raw_file_data[2:]:\n",
    "    vname = rfd['village_name']\n",
    "    daily_energy = data_zf[vname]['kWh export'].diff().resample('D').sum()\n",
    "    operating_daily_energy = daily_energy[daily_energy > 0]\n",
    "    try:\n",
    "        observed_fuel = rfd['observed_fuel_liter_per_day']\n",
    "        observed_SFC = observed_fuel / operating_daily_energy.mean()\n",
    "    except:\n",
    "        observed_fuel = None\n",
    "        observed_SFC = None\n",
    "    data.append({'Village' : vname.title(),\n",
    "                 'Observed daily fuel (liters per day)' : observed_fuel,\n",
    "                 'Mean Energy on Operating Days (kWh)' : operating_daily_energy.mean(),\n",
    "                 'Observed SFC (lpkWh)' : observed_SFC})\n",
    "    \n",
    "table = pd.DataFrame(data)\n",
    "table = table[['Village', 'Observed daily fuel (liters per day)',\n",
    "               'Mean Energy on Operating Days (kWh)', 'Observed SFC (lpkWh)']]\n",
    "\n",
    "table_string = tabulate.tabulate(table, tablefmt='pipe', headers=table.columns, floatfmt='.3g', showindex=False)\n",
    "\n",
    "with open('../tables/observed_SFC.md', 'w') as f:\n",
    "    f.write(table_string)\n",
    "    \n",
    "print(table_string)\n",
    "table\n"
   ]
  },
  {
   "cell_type": "code",
   "execution_count": null,
   "metadata": {
    "collapsed": true
   },
   "outputs": [],
   "source": []
  }
 ],
 "metadata": {
  "kernelspec": {
   "display_name": "Python 3",
   "language": "python",
   "name": "python3"
  },
  "language_info": {
   "codemirror_mode": {
    "name": "ipython",
    "version": 3
   },
   "file_extension": ".py",
   "mimetype": "text/x-python",
   "name": "python",
   "nbconvert_exporter": "python",
   "pygments_lexer": "ipython3",
   "version": "3.6.2"
  },
  "widgets": {
   "state": {},
   "version": "1.1.2"
  }
 },
 "nbformat": 4,
 "nbformat_minor": 1
}
