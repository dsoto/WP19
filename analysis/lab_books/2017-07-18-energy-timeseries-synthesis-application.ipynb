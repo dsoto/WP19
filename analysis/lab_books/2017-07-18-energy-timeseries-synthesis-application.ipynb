{
 "cells": [
  {
   "cell_type": "markdown",
   "metadata": {},
   "source": [
    "# Introduction\n",
    "\n",
    "I developed a simple routine to insert zeros into a time series based on valid recorded power gap messages from the meter.\n",
    "This allows a straightforward aggregation approach for getting daily energy use.\n",
    "\n",
    "# Method\n",
    "\n",
    "- perform zero insertion on energy data\n",
    "- sum minute energy use over 24 hour periods\n",
    "\n",
    "This method does not attempt to correct or account for\n",
    "\n",
    "- periods with data loss (these will underreport)\n",
    "- increments in kWh export during data loss\n",
    "- days of complete or incomplete service\n",
    "\n",
    "# Results\n",
    "\n",
    "This allows for more complete records than previous analyses.\n",
    "\n",
    "# Next Work"
   ]
  },
  {
   "cell_type": "code",
   "execution_count": 1,
   "metadata": {
    "collapsed": true
   },
   "outputs": [],
   "source": [
    "%load_ext autoreload"
   ]
  },
  {
   "cell_type": "code",
   "execution_count": 2,
   "metadata": {
    "collapsed": true
   },
   "outputs": [],
   "source": [
    "%autoreload 2\n",
    "%matplotlib inline\n",
    "\n",
    "import pandas as pd\n",
    "import numpy as np\n",
    "import matplotlib.pyplot as plt\n",
    "import seaborn as sns\n",
    "import WP19_analysis as wpa\n",
    "import tabulate\n",
    "\n",
    "def wpa_insert_power_gap_zeros(energy_data, messages):\n",
    "    # this puts zeros in the recorded power gaps and leaves data gaps untouched\n",
    "    power_down = messages[messages['message']=='Power Down'].index.values\n",
    "    power_up = messages[messages['message']=='Power Up'].index.values\n",
    "    # this is diffing all columns and possibly slowing down function\n",
    "    diffed = energy_data[['kWh export']].resample('1T').asfreq().diff().shift(-1)\n",
    "    for i in diffed.index.values:\n",
    "        # if either boundary of the interval is in a power gap, we want to insert a zero\n",
    "        # if the insertion point of the index is one greater for the power_down time, you are in a gap\n",
    "        if np.searchsorted(power_down, i) == np.searchsorted(power_up, i) + 1:\n",
    "            diffed.loc[i]['kWh export'] = 0\n",
    "        end_interval = i + np.timedelta64(1,'m')\n",
    "        if np.searchsorted(power_down, end_interval) == np.searchsorted(power_up, end_interval) + 1:\n",
    "            diffed.loc[i]['kWh export'] = 0\n",
    "    return diffed['kWh export']"
   ]
  },
  {
   "cell_type": "code",
   "execution_count": 3,
   "metadata": {},
   "outputs": [
    {
     "name": "stdout",
     "output_type": "stream",
     "text": [
      "ajau\n",
      "asei\n",
      "atamali\n",
      "ayapo\n",
      "kensio\n"
     ]
    }
   ],
   "source": [
    "resampled_data = {}\n",
    "for rfd in wpa.raw_file_data:\n",
    "    vname = rfd['village_name']\n",
    "    print(vname)\n",
    "    energy_data = wpa.load_timeseries_file(vname + '-clean.csv')\n",
    "    messages = wpa.load_message_file(vname + '-messages.csv')\n",
    "    diffed = wpa_insert_power_gap_zeros(energy_data, messages)\n",
    "    #daily = diffed.groupby(diffed.index.date).sum()\n",
    "    resampled_data[vname] = diffed"
   ]
  },
  {
   "cell_type": "code",
   "execution_count": 6,
   "metadata": {
    "collapsed": true
   },
   "outputs": [],
   "source": [
    "# write this out to disk\n",
    "for rfd in wpa.raw_file_data:\n",
    "    vname = rfd['village_name']\n",
    "    diffed = resampled_data[vname]\n",
    "    #diffed.to_csv(vname + '-resampled.csv')"
   ]
  },
  {
   "cell_type": "code",
   "execution_count": 4,
   "metadata": {},
   "outputs": [
    {
     "data": {
      "text/html": [
       "<div>\n",
       "<style>\n",
       "    .dataframe thead tr:only-child th {\n",
       "        text-align: right;\n",
       "    }\n",
       "\n",
       "    .dataframe thead th {\n",
       "        text-align: left;\n",
       "    }\n",
       "\n",
       "    .dataframe tbody tr th {\n",
       "        vertical-align: top;\n",
       "    }\n",
       "</style>\n",
       "<table border=\"1\" class=\"dataframe\">\n",
       "  <thead>\n",
       "    <tr style=\"text-align: right;\">\n",
       "      <th></th>\n",
       "      <th>days observed</th>\n",
       "      <th>max kWh per day</th>\n",
       "      <th>mean kWh per day</th>\n",
       "      <th>median kWh per day</th>\n",
       "    </tr>\n",
       "  </thead>\n",
       "  <tbody>\n",
       "    <tr>\n",
       "      <th>ajau</th>\n",
       "      <td>129.0</td>\n",
       "      <td>797.0</td>\n",
       "      <td>600.387597</td>\n",
       "      <td>609.0</td>\n",
       "    </tr>\n",
       "    <tr>\n",
       "      <th>asei</th>\n",
       "      <td>78.0</td>\n",
       "      <td>229.0</td>\n",
       "      <td>180.038462</td>\n",
       "      <td>186.0</td>\n",
       "    </tr>\n",
       "    <tr>\n",
       "      <th>atamali</th>\n",
       "      <td>110.0</td>\n",
       "      <td>26.0</td>\n",
       "      <td>15.054545</td>\n",
       "      <td>16.0</td>\n",
       "    </tr>\n",
       "    <tr>\n",
       "      <th>ayapo</th>\n",
       "      <td>117.0</td>\n",
       "      <td>149.0</td>\n",
       "      <td>84.982906</td>\n",
       "      <td>95.0</td>\n",
       "    </tr>\n",
       "    <tr>\n",
       "      <th>kensio</th>\n",
       "      <td>98.0</td>\n",
       "      <td>24.0</td>\n",
       "      <td>5.316327</td>\n",
       "      <td>1.5</td>\n",
       "    </tr>\n",
       "  </tbody>\n",
       "</table>\n",
       "</div>"
      ],
      "text/plain": [
       "         days observed  max kWh per day  mean kWh per day  median kWh per day\n",
       "ajau             129.0            797.0        600.387597               609.0\n",
       "asei              78.0            229.0        180.038462               186.0\n",
       "atamali          110.0             26.0         15.054545                16.0\n",
       "ayapo            117.0            149.0         84.982906                95.0\n",
       "kensio            98.0             24.0          5.316327                 1.5"
      ]
     },
     "execution_count": 4,
     "metadata": {},
     "output_type": "execute_result"
    }
   ],
   "source": [
    "# create a table of summary statistics\n",
    "tmp_dict = {}\n",
    "for rfd in wpa.raw_file_data:\n",
    "    vname = rfd['village_name']\n",
    "    diffed = resampled_data[vname]\n",
    "    daily = diffed.groupby(diffed.index.date).sum()\n",
    "    #print(vname, daily.mean(), daily.median())\n",
    "    tmp_dict[vname] = {'mean kWh per day':daily.mean(),\n",
    "                       'median kWh per day':daily.median(),\n",
    "                       'max kWh per day':daily.max(),\n",
    "                       'days observed':daily.count()}\n",
    "daily_stats = pd.DataFrame(tmp_dict).T\n",
    "daily_stats"
   ]
  },
  {
   "cell_type": "code",
   "execution_count": 27,
   "metadata": {},
   "outputs": [
    {
     "data": {
      "text/html": [
       "<div>\n",
       "<style>\n",
       "    .dataframe thead tr:only-child th {\n",
       "        text-align: right;\n",
       "    }\n",
       "\n",
       "    .dataframe thead th {\n",
       "        text-align: left;\n",
       "    }\n",
       "\n",
       "    .dataframe tbody tr th {\n",
       "        vertical-align: top;\n",
       "    }\n",
       "</style>\n",
       "<table border=\"1\" class=\"dataframe\">\n",
       "  <thead>\n",
       "    <tr style=\"text-align: right;\">\n",
       "      <th></th>\n",
       "      <th>days observed</th>\n",
       "      <th>mean kWh per day per household</th>\n",
       "      <th>median kWh per day per housheold</th>\n",
       "    </tr>\n",
       "  </thead>\n",
       "  <tbody>\n",
       "    <tr>\n",
       "      <th>ajau</th>\n",
       "      <td>129.0</td>\n",
       "      <td>4.961881</td>\n",
       "      <td>5.033058</td>\n",
       "    </tr>\n",
       "    <tr>\n",
       "      <th>asei</th>\n",
       "      <td>78.0</td>\n",
       "      <td>5.455711</td>\n",
       "      <td>5.636364</td>\n",
       "    </tr>\n",
       "    <tr>\n",
       "      <th>atamali</th>\n",
       "      <td>110.0</td>\n",
       "      <td>0.376364</td>\n",
       "      <td>0.400000</td>\n",
       "    </tr>\n",
       "    <tr>\n",
       "      <th>ayapo</th>\n",
       "      <td>117.0</td>\n",
       "      <td>0.825077</td>\n",
       "      <td>0.922330</td>\n",
       "    </tr>\n",
       "    <tr>\n",
       "      <th>kensio</th>\n",
       "      <td>98.0</td>\n",
       "      <td>0.265816</td>\n",
       "      <td>0.075000</td>\n",
       "    </tr>\n",
       "  </tbody>\n",
       "</table>\n",
       "</div>"
      ],
      "text/plain": [
       "         days observed  mean kWh per day per household  \\\n",
       "ajau             129.0                        4.961881   \n",
       "asei              78.0                        5.455711   \n",
       "atamali          110.0                        0.376364   \n",
       "ayapo            117.0                        0.825077   \n",
       "kensio            98.0                        0.265816   \n",
       "\n",
       "         median kWh per day per housheold  \n",
       "ajau                             5.033058  \n",
       "asei                             5.636364  \n",
       "atamali                          0.400000  \n",
       "ayapo                            0.922330  \n",
       "kensio                           0.075000  "
      ]
     },
     "execution_count": 27,
     "metadata": {},
     "output_type": "execute_result"
    }
   ],
   "source": [
    "# create a table of summary statistics\n",
    "tmp_dict = {}\n",
    "for rfd in wpa.raw_file_data:\n",
    "    vname = rfd['village_name']\n",
    "    connections = rfd['connections']\n",
    "    diffed = resampled_data[vname]\n",
    "    daily = diffed.groupby(diffed.index.date).sum()\n",
    "    #print(vname, daily.mean(), daily.median())\n",
    "    tmp_dict[vname] = {'mean kWh per day per household':daily.mean()/connections,\n",
    "                       'median kWh per day per housheold':daily.median()/connections,\n",
    "                       'days observed':daily.count()}\n",
    "daily_stats = pd.DataFrame(tmp_dict).T\n",
    "daily_stats"
   ]
  },
  {
   "cell_type": "code",
   "execution_count": 28,
   "metadata": {},
   "outputs": [
    {
     "name": "stdout",
     "output_type": "stream",
     "text": [
      "|         |   days observed |   mean kWh per day per household |   median kWh per day per housheold |\n",
      "|:--------|----------------:|---------------------------------:|-----------------------------------:|\n",
      "| ajau    |             129 |                         4.96188  |                            5.03306 |\n",
      "| asei    |              78 |                         5.45571  |                            5.63636 |\n",
      "| atamali |             110 |                         0.376364 |                            0.4     |\n",
      "| ayapo   |             117 |                         0.825077 |                            0.92233 |\n",
      "| kensio  |              98 |                         0.265816 |                            0.075   |\n"
     ]
    }
   ],
   "source": [
    "# output table in markdown format\n",
    "print(tabulate.tabulate(daily_stats, daily_stats.columns, tablefmt='pipe'))"
   ]
  },
  {
   "cell_type": "code",
   "execution_count": 26,
   "metadata": {},
   "outputs": [
    {
     "data": {
      "image/png": "[encoded data removed]",
      "text/plain": [
       "<matplotlib.figure.Figure at 0x115c77c88>"
      ]
     },
     "metadata": {},
     "output_type": "display_data"
    }
   ],
   "source": [
    "for rfd in wpa.raw_file_data:\n",
    "    vname = rfd['village_name']\n",
    "    diffed = resampled_data[vname]\n",
    "    daily = diffed.groupby(diffed.index.date).sum()\n",
    "    daily.plot()"
   ]
  },
  {
   "cell_type": "code",
   "execution_count": null,
   "metadata": {
    "collapsed": true
   },
   "outputs": [],
   "source": []
  }
 ],
 "metadata": {
  "kernelspec": {
   "display_name": "Python 3",
   "language": "python",
   "name": "python3"
  },
  "language_info": {
   "codemirror_mode": {
    "name": "ipython",
    "version": 3
   },
   "file_extension": ".py",
   "mimetype": "text/x-python",
   "name": "python",
   "nbconvert_exporter": "python",
   "pygments_lexer": "ipython3",
   "version": "3.6.1"
  },
  "widgets": {
   "state": {},
   "version": "1.1.2"
  }
 },
 "nbformat": 4,
 "nbformat_minor": 1
}
