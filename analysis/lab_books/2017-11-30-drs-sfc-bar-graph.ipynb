{
 "cells": [
  {
   "cell_type": "markdown",
   "metadata": {},
   "source": [
    "# Author\n",
    "\n",
    "Daniel Soto\n",
    "\n",
    "# Draft Status\n",
    "\n",
    "\n",
    "# Introduction\n",
    "\n",
    "This notebook creates a bar graph of the optimal, modeled, and observed SFC values.\n",
    "\n",
    "# Method\n",
    "\n",
    "- create generator model\n",
    "- create tidy format data frame with village, sfc, sfc type \n",
    "    - apply generator model to optimal, place in data frame\n",
    "    - apply generator model to observed power, place in data frame\n",
    "    - calculate observed, place in data frame\n",
    "- create bar graph with village on x-axis and observed as hue\n",
    "\n",
    "\n",
    "# Results\n",
    "\n",
    "\n",
    "# Next Work"
   ]
  },
  {
   "cell_type": "code",
   "execution_count": 1,
   "metadata": {
    "collapsed": true
   },
   "outputs": [],
   "source": [
    "%load_ext autoreload"
   ]
  },
  {
   "cell_type": "code",
   "execution_count": 2,
   "metadata": {},
   "outputs": [
    {
     "name": "stderr",
     "output_type": "stream",
     "text": [
      "/Users/dsoto/miniconda3/envs/wp19/lib/python3.6/site-packages/statsmodels/compat/pandas.py:56: FutureWarning: The pandas.core.datetools module is deprecated and will be removed in a future version. Please use the pandas.tseries module instead.\n",
      "  from pandas.core import datetools\n"
     ]
    }
   ],
   "source": [
    "%autoreload 2\n",
    "%matplotlib inline\n",
    "\n",
    "import pandas as pd\n",
    "import numpy as np\n",
    "import matplotlib.pyplot as plt\n",
    "import seaborn as sns\n",
    "import WP19_analysis as wpa\n",
    "import statsmodels.api as sm\n",
    "import tabulate"
   ]
  },
  {
   "cell_type": "code",
   "execution_count": 3,
   "metadata": {
    "collapsed": true
   },
   "outputs": [],
   "source": [
    "data_zf = {}\n",
    "for rfd in wpa.raw_file_data[2:]:\n",
    "    vname = rfd['village_name']\n",
    "    energy_data = wpa.load_timeseries_file(vname + '-clean.csv')\n",
    "    messages = wpa.load_message_file(vname + '-messages.csv')\n",
    "    # zero filled data\n",
    "    data_zf[vname] = wpa.insert_zeros_energy(energy_data, messages)"
   ]
  },
  {
   "cell_type": "code",
   "execution_count": 4,
   "metadata": {},
   "outputs": [
    {
     "name": "stdout",
     "output_type": "stream",
     "text": [
      "marginal fuel rate (lph) = 0.256012109187\n",
      "no load fuel consumption (lph) = 1.38541666667\n",
      "0.0189809767414\n",
      "0.642072382559\n",
      "0.074140933418\n",
      "0.463450742298\n"
     ]
    }
   ],
   "source": [
    "# load data and add a column for the delivered load in kVA rather than a percentage\n",
    "\n",
    "gen_data = pd.read_csv('../data_sheets/generator_data.csv', comment='#')\n",
    "gen_data['load_kVA'] = gen_data['rated_power_kVA'] * gen_data['percent_load'] / 100\n",
    "gen_data.head()\n",
    "\n",
    "# iterate over each model and perform a fit and show table of results\n",
    "\n",
    "generator_fits = []\n",
    "models = gen_data['model_number'].unique()\n",
    "for m in models:\n",
    "    model_data = gen_data[gen_data['model_number'] == m]\n",
    "    y = model_data['fuel_consumption_lph']\n",
    "    X = model_data['load_kVA']\n",
    "    X = sm.add_constant(X)\n",
    "    model = sm.OLS(y, X).fit()\n",
    "    generator_fits.append({'model': m,\n",
    "                           'rated_power_kVA':model_data['rated_power_kVA'].mean(), \n",
    "                           'no_load_consumption': model.params['const'],\n",
    "                           'fuel_coefficient': model.params['load_kVA'],\n",
    "                           'R-squared': model.rsquared})\n",
    "    \n",
    "generator_fits = pd.DataFrame(generator_fits)\n",
    "generator_fits\n",
    "\n",
    "marginal_fuel_rate = generator_fits['fuel_coefficient'].mean()\n",
    "no_load_fuel_rate = generator_fits['no_load_consumption'].mean()\n",
    "print('marginal fuel rate (lph) =', marginal_fuel_rate)\n",
    "print('no load fuel consumption (lph) =', no_load_fuel_rate)\n",
    "print(generator_fits['fuel_coefficient'].std())\n",
    "print(generator_fits['no_load_consumption'].std())\n",
    "print(generator_fits['fuel_coefficient'].std()/generator_fits['fuel_coefficient'].mean())\n",
    "print(generator_fits['no_load_consumption'].std()/generator_fits['no_load_consumption'].mean())\n",
    "\n",
    "def get_fuel_rate(load_power=None):\n",
    "    return load_power * marginal_fuel_rate + no_load_fuel_rate\n",
    "\n",
    "def get_SFC(load_power=None, fuel_rate=None):\n",
    "    return fuel_rate / load_power"
   ]
  },
  {
   "cell_type": "code",
   "execution_count": 7,
   "metadata": {},
   "outputs": [
    {
     "data": {
      "text/html": [
       "<div>\n",
       "<style>\n",
       "    .dataframe thead tr:only-child th {\n",
       "        text-align: right;\n",
       "    }\n",
       "\n",
       "    .dataframe thead th {\n",
       "        text-align: left;\n",
       "    }\n",
       "\n",
       "    .dataframe tbody tr th {\n",
       "        vertical-align: top;\n",
       "    }\n",
       "</style>\n",
       "<table border=\"1\" class=\"dataframe\">\n",
       "  <thead>\n",
       "    <tr style=\"text-align: right;\">\n",
       "      <th>SFC Type</th>\n",
       "      <th>Ideal</th>\n",
       "      <th>Modeled</th>\n",
       "      <th>Observed</th>\n",
       "    </tr>\n",
       "    <tr>\n",
       "      <th>Village</th>\n",
       "      <th></th>\n",
       "      <th></th>\n",
       "      <th></th>\n",
       "    </tr>\n",
       "  </thead>\n",
       "  <tbody>\n",
       "    <tr>\n",
       "      <th>Atamali</th>\n",
       "      <td>0.311429</td>\n",
       "      <td>0.709128</td>\n",
       "      <td>1.972002</td>\n",
       "    </tr>\n",
       "    <tr>\n",
       "      <th>Ayapo</th>\n",
       "      <td>0.290648</td>\n",
       "      <td>0.352735</td>\n",
       "      <td>0.666599</td>\n",
       "    </tr>\n",
       "    <tr>\n",
       "      <th>Kensio</th>\n",
       "      <td>0.295595</td>\n",
       "      <td>0.821159</td>\n",
       "      <td>1.644231</td>\n",
       "    </tr>\n",
       "  </tbody>\n",
       "</table>\n",
       "</div>"
      ],
      "text/plain": [
       "SFC Type     Ideal   Modeled  Observed\n",
       "Village                               \n",
       "Atamali   0.311429  0.709128  1.972002\n",
       "Ayapo     0.290648  0.352735  0.666599\n",
       "Kensio    0.295595  0.821159  1.644231"
      ]
     },
     "execution_count": 7,
     "metadata": {},
     "output_type": "execute_result"
    }
   ],
   "source": [
    "# estimate SFC for optimal and observed loads\n",
    "\n",
    "tmp_data = []\n",
    "for rfd in wpa.raw_file_data[2:]:\n",
    "    vname = rfd['village_name']\n",
    "    energy_data = wpa.load_timeseries_file(vname + '-clean.csv')\n",
    "    kVA = energy_data['kVA sliding window Demand'].dropna().values\n",
    "    kVA = kVA[kVA != 0.0]\n",
    "    mean_kVA = kVA.mean()\n",
    "    rated_load = rfd['genset_rating_kVA']\n",
    "    SFC_100 = get_SFC(fuel_rate=get_fuel_rate(load_power=rated_load), load_power=rated_load)\n",
    "    mean_load = mean_kVA\n",
    "    SFC_mean = get_SFC(fuel_rate=get_fuel_rate(load_power=mean_load), load_power=mean_load)\n",
    "    tmp_data.append({'Village' : vname.title(),\n",
    "                     'SFC Type': 'Modeled',\n",
    "                     'SFC (lpkVA)': SFC_mean,\n",
    "                    })\n",
    "    tmp_data.append({'Village' : vname.title(),\n",
    "                     'SFC Type': 'Ideal',\n",
    "                     'SFC (lpkVA)': SFC_100,\n",
    "                })\n",
    "\n",
    "for rfd in wpa.raw_file_data[2:]:\n",
    "    vname = rfd['village_name']\n",
    "    daily_energy = data_zf[vname]['kWh export'].diff().resample('D').sum()\n",
    "    operating_daily_energy = daily_energy[daily_energy > 0]\n",
    "    try:\n",
    "        observed_fuel = rfd['observed_fuel_liter_per_day']\n",
    "        observed_SFC = observed_fuel / operating_daily_energy.mean()\n",
    "    except:\n",
    "        observed_fuel = None\n",
    "        observed_SFC = None\n",
    "    tmp_data.append({'Village' : vname.title(),\n",
    "                     'SFC (lpkVA)' : observed_SFC,\n",
    "                     'SFC Type': 'Observed'})\n",
    "    \n",
    "data = pd.DataFrame(tmp_data)\n",
    "data.pivot(index='Village', columns='SFC Type', values='SFC (lpkVA)')"
   ]
  },
  {
   "cell_type": "code",
   "execution_count": 6,
   "metadata": {},
   "outputs": [
    {
     "data": {
      "image/png": "[encoded data removed]",
      "text/plain": [
       "<matplotlib.figure.Figure at 0x10f171fd0>"
      ]
     },
     "metadata": {},
     "output_type": "display_data"
    }
   ],
   "source": [
    "sns.barplot(x='Village', \n",
    "            y='SFC (lpkVA)', \n",
    "            hue='SFC Type', \n",
    "            data=data,\n",
    "            hue_order=['Ideal', 'Modeled', 'Observed'],\n",
    "            order=['Ayapo', 'Kensio', 'Atamali']\n",
    "           )\n",
    "plt.savefig('../plots/SFC-bar-graph.png')"
   ]
  },
  {
   "cell_type": "code",
   "execution_count": null,
   "metadata": {
    "collapsed": true
   },
   "outputs": [],
   "source": []
  }
 ],
 "metadata": {
  "kernelspec": {
   "display_name": "Python 3",
   "language": "python",
   "name": "python3"
  },
  "language_info": {
   "codemirror_mode": {
    "name": "ipython",
    "version": 3
   },
   "file_extension": ".py",
   "mimetype": "text/x-python",
   "name": "python",
   "nbconvert_exporter": "python",
   "pygments_lexer": "ipython3",
   "version": "3.6.2"
  },
  "widgets": {
   "state": {},
   "version": "1.1.2"
  }
 },
 "nbformat": 4,
 "nbformat_minor": 1
}
