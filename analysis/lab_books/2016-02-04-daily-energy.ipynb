{
 "cells": [
  {
   "cell_type": "markdown",
   "metadata": {},
   "source": [
    "# Daily Energy\n",
    "\n",
    "This notebook finds the mean energy use in the villages of Ajau, Asei, Atamali, Ayapo, and Kensio.  Ajau and Asei are grid connected while the other villages are microgrid.\n",
    "\n",
    "Data on the number of connections is from AE Report #5, dated 26 June 2015. \n",
    "\n",
    "We use this to output the mean and median values for days where any power was delivered.  We alse use the connections data to determine the per household data.\n",
    "\n",
    "We observe that the grid-connected regions consume about 5 kWh per day per household, while the microgrid areas consume less than 1 kWh per day.\n",
    "\n",
    "## Future Work\n",
    "\n",
    "- Look at how to calculate number of days with valid data\n",
    "- Calculate uptime\n",
    "- Combine multiple data files to observe longer time periods"
   ]
  },
  {
   "cell_type": "code",
   "execution_count": 1,
   "metadata": {},
   "outputs": [],
   "source": [
    "import pandas as pd\n",
    "\n",
    "def parse_file(energy_file_name):\n",
    "    # read in raw CSV file for preprocessing\n",
    "    energy_file = open(energy_file_name)\n",
    "    # append data lines after header beginning with 'Timestamp'\n",
    "    # dump lines from communications messages or empty lines and write to string\n",
    "    file_string = ''\n",
    "    omit_strings = ['Power Up', 'Communication Lost', 'Power Down', ',,,,,,,,,,,']\n",
    "    # append data not matching omit_strings after sentinel is reached\n",
    "    data_found = False\n",
    "    for line in energy_file.readlines():\n",
    "        if 'Timestamp' in line:\n",
    "            data_found = True\n",
    "        if not any(omit in line for omit in omit_strings) and data_found:\n",
    "            file_string += line\n",
    "    return file_string    \n",
    "\n",
    "def create_data_frame(energy_file_name):\n",
    "    # use pre-parsed string to read in data file to pandas and sort by date\n",
    "    file_string = parse_file(energy_file_name)\n",
    "    import io\n",
    "    energy_data = pd.read_csv(io.StringIO(file_string),\n",
    "                          index_col=0, \n",
    "                          parse_dates=[0], \n",
    "                          thousands=',')\n",
    "    energy_data = energy_data.sort_index()\n",
    "    return energy_data\n",
    "\n",
    "def get_energy_stats(energy_data):\n",
    "    energy = energy_data['kWh export']\n",
    "    resampled = energy.resample('D').diff()\n",
    "    return resampled.mean(), resampled.median()"
   ]
  },
  {
   "cell_type": "code",
   "execution_count": 2,
   "metadata": {},
   "outputs": [
    {
     "data": {
      "text/html": [
       "<div>\n",
       "<table border=\"1\" class=\"dataframe\">\n",
       "  <thead>\n",
       "    <tr style=\"text-align: right;\">\n",
       "      <th></th>\n",
       "      <th>mean kWh per day</th>\n",
       "      <th>mean kWh per day per household</th>\n",
       "      <th>median kWh per day</th>\n",
       "    </tr>\n",
       "  </thead>\n",
       "  <tbody>\n",
       "    <tr>\n",
       "      <th>Ajau</th>\n",
       "      <td>611.081857</td>\n",
       "      <td>5.050263</td>\n",
       "      <td>623.048111</td>\n",
       "    </tr>\n",
       "    <tr>\n",
       "      <th>Asei</th>\n",
       "      <td>186.858382</td>\n",
       "      <td>5.662375</td>\n",
       "      <td>213.208790</td>\n",
       "    </tr>\n",
       "    <tr>\n",
       "      <th>Atamali</th>\n",
       "      <td>15.370199</td>\n",
       "      <td>0.384255</td>\n",
       "      <td>16.787386</td>\n",
       "    </tr>\n",
       "    <tr>\n",
       "      <th>Ayapo</th>\n",
       "      <td>95.387185</td>\n",
       "      <td>0.926089</td>\n",
       "      <td>97.459428</td>\n",
       "    </tr>\n",
       "    <tr>\n",
       "      <th>Kensio</th>\n",
       "      <td>10.781886</td>\n",
       "      <td>0.539094</td>\n",
       "      <td>9.852627</td>\n",
       "    </tr>\n",
       "  </tbody>\n",
       "</table>\n",
       "</div>"
      ],
      "text/plain": [
       "         mean kWh per day  mean kWh per day per household  median kWh per day\n",
       "Ajau           611.081857                        5.050263          623.048111\n",
       "Asei           186.858382                        5.662375          213.208790\n",
       "Atamali         15.370199                        0.384255           16.787386\n",
       "Ayapo           95.387185                        0.926089           97.459428\n",
       "Kensio          10.781886                        0.539094            9.852627"
      ]
     },
     "execution_count": 2,
     "metadata": {},
     "output_type": "execute_result"
    }
   ],
   "source": [
    "energy_file_names = (('Ajau', 121, \"../data-timeseries/Data_Logs Ajau Agustus.csv\"),\n",
    "                     ('Atamali', 40, \"../data-timeseries/Data_Logs Atamali Agustus.csv\"),\n",
    "                     ('Ayapo', 103, \"../data-timeseries/Data_Logs Ayapo Agustus.csv\"),\n",
    "                     ('Asei', 33, \"../data-timeseries/Data_Logs ASEI July.csv\"),\n",
    "                     ('Kensio', 20, \"../data-timeseries/Data_Logs Kensio Agustus.csv\"))\n",
    "\n",
    "output = {}\n",
    "verbose = False\n",
    "for village, connections, energy_file_name in energy_file_names: \n",
    "    energy_data = create_data_frame(energy_file_name)\n",
    "    mean, median = get_energy_stats(energy_data)\n",
    "    if verbose: print(village, mean, median)\n",
    "    output[village] = {'mean kWh per day': mean,\n",
    "                       'mean kWh per day per household': mean/connections,\n",
    "                       'median kWh per day': median}\n",
    "\n",
    "output_data = pd.DataFrame(output).T\n",
    "output_data"
   ]
  }
 ],
 "metadata": {
  "kernelspec": {
   "display_name": "Python 3",
   "language": "python",
   "name": "python3"
  },
  "language_info": {
   "codemirror_mode": {
    "name": "ipython",
    "version": 3
   },
   "file_extension": ".py",
   "mimetype": "text/x-python",
   "name": "python",
   "nbconvert_exporter": "python",
   "pygments_lexer": "ipython3",
   "version": "3.6.1"
  },
  "widgets": {
   "state": {},
   "version": "1.1.2"
  }
 },
 "nbformat": 4,
 "nbformat_minor": 1
}
