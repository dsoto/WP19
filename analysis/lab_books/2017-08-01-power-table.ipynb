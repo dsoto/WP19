{
 "cells": [
  {
   "cell_type": "markdown",
   "metadata": {},
   "source": [
    "status: Draft\n",
    "\n",
    "# Introduction\n",
    "\n",
    "This notebook creates a table of load statistics.\n",
    "\n",
    "# Method\n",
    "\n",
    "\n",
    "\n",
    "# Results\n",
    "\n",
    "\n",
    "# Next Work\n",
    "\n"
   ]
  },
  {
   "cell_type": "code",
   "execution_count": 1,
   "metadata": {
    "collapsed": true
   },
   "outputs": [],
   "source": [
    "%load_ext autoreload"
   ]
  },
  {
   "cell_type": "code",
   "execution_count": 2,
   "metadata": {
    "collapsed": true
   },
   "outputs": [],
   "source": [
    "%autoreload 2\n",
    "%matplotlib inline\n",
    "\n",
    "import pandas as pd\n",
    "import numpy as np\n",
    "import matplotlib.pyplot as plt\n",
    "import seaborn as sns\n",
    "import WP19_analysis as wpa"
   ]
  },
  {
   "cell_type": "markdown",
   "metadata": {},
   "source": [
    "We use the data with nulls during power outages to perform our statistics."
   ]
  },
  {
   "cell_type": "code",
   "execution_count": 3,
   "metadata": {},
   "outputs": [
    {
     "data": {
      "text/html": [
       "<div>\n",
       "<style>\n",
       "    .dataframe thead tr:only-child th {\n",
       "        text-align: right;\n",
       "    }\n",
       "\n",
       "    .dataframe thead th {\n",
       "        text-align: left;\n",
       "    }\n",
       "\n",
       "    .dataframe tbody tr th {\n",
       "        vertical-align: top;\n",
       "    }\n",
       "</style>\n",
       "<table border=\"1\" class=\"dataframe\">\n",
       "  <thead>\n",
       "    <tr style=\"text-align: right;\">\n",
       "      <th></th>\n",
       "      <th>grid_type</th>\n",
       "      <th>load factor</th>\n",
       "      <th>max</th>\n",
       "      <th>mean</th>\n",
       "      <th>rating (kVA)</th>\n",
       "      <th>percent genset load</th>\n",
       "    </tr>\n",
       "  </thead>\n",
       "  <tbody>\n",
       "    <tr>\n",
       "      <th>ajau</th>\n",
       "      <td>grid-connected</td>\n",
       "      <td>0.593211</td>\n",
       "      <td>44.484</td>\n",
       "      <td>26.3884</td>\n",
       "      <td>NaN</td>\n",
       "      <td>NaN</td>\n",
       "    </tr>\n",
       "    <tr>\n",
       "      <th>asei</th>\n",
       "      <td>grid-connected</td>\n",
       "      <td>0.513277</td>\n",
       "      <td>18.666</td>\n",
       "      <td>9.58083</td>\n",
       "      <td>NaN</td>\n",
       "      <td>NaN</td>\n",
       "    </tr>\n",
       "    <tr>\n",
       "      <th>atamali</th>\n",
       "      <td>diesel-microgrid</td>\n",
       "      <td>0.73535</td>\n",
       "      <td>3.884</td>\n",
       "      <td>2.8561</td>\n",
       "      <td>25</td>\n",
       "      <td>0.114244</td>\n",
       "    </tr>\n",
       "    <tr>\n",
       "      <th>ayapo</th>\n",
       "      <td>diesel-microgrid</td>\n",
       "      <td>0.767282</td>\n",
       "      <td>17.041</td>\n",
       "      <td>13.0753</td>\n",
       "      <td>40</td>\n",
       "      <td>0.326881</td>\n",
       "    </tr>\n",
       "    <tr>\n",
       "      <th>kensio</th>\n",
       "      <td>diesel-microgrid</td>\n",
       "      <td>0.690428</td>\n",
       "      <td>3.253</td>\n",
       "      <td>2.24596</td>\n",
       "      <td>35</td>\n",
       "      <td>0.0641703</td>\n",
       "    </tr>\n",
       "  </tbody>\n",
       "</table>\n",
       "</div>"
      ],
      "text/plain": [
       "                grid_type load factor     max     mean rating (kVA)  \\\n",
       "ajau       grid-connected    0.593211  44.484  26.3884          NaN   \n",
       "asei       grid-connected    0.513277  18.666  9.58083          NaN   \n",
       "atamali  diesel-microgrid     0.73535   3.884   2.8561           25   \n",
       "ayapo    diesel-microgrid    0.767282  17.041  13.0753           40   \n",
       "kensio   diesel-microgrid    0.690428   3.253  2.24596           35   \n",
       "\n",
       "        percent genset load  \n",
       "ajau                    NaN  \n",
       "asei                    NaN  \n",
       "atamali            0.114244  \n",
       "ayapo              0.326881  \n",
       "kensio            0.0641703  "
      ]
     },
     "execution_count": 3,
     "metadata": {},
     "output_type": "execute_result"
    }
   ],
   "source": [
    "tmp_dict = {}\n",
    "for rfd in wpa.raw_file_data:\n",
    "    vname = rfd['village_name']\n",
    "    energy_data = wpa.load_timeseries_file(vname + '-clean.csv')\n",
    "    kVA = energy_data['kVA sliding window Demand']\n",
    "    try:\n",
    "        rating = rfd['genset_rating_kVA']\n",
    "    except:\n",
    "        rating = np.nan\n",
    "    tmp_dict[vname] = {'mean' : kVA.mean(),\n",
    "                       'max' : kVA.max(),\n",
    "                       'load factor': kVA.mean()/kVA.max(),\n",
    "                       'rating (kVA)':rating,\n",
    "                       'grid_type': rfd['grid_type']}\n",
    "\n",
    "power_stats = pd.DataFrame(tmp_dict).T\n",
    "power_stats['percent genset load'] = power_stats['mean'] / power_stats['rating (kVA)']\n",
    "power_stats"
   ]
  },
  {
   "cell_type": "code",
   "execution_count": 19,
   "metadata": {},
   "outputs": [
    {
     "name": "stdout",
     "output_type": "stream",
     "text": [
      "|         |     mean |   rating (kVA) |   percent genset load |\n",
      "|:--------|---------:|---------------:|----------------------:|\n",
      "| ajau    | 26.3884  |            nan |           nan         |\n",
      "| asei    |  9.58083 |            nan |           nan         |\n",
      "| atamali |  2.8561  |             25 |             0.114244  |\n",
      "| ayapo   | 13.0753  |             40 |             0.326881  |\n",
      "| kensio  |  2.24596 |             35 |             0.0641703 |\n"
     ]
    }
   ],
   "source": [
    "import tabulate\n",
    "output_table = power_stats[['mean', 'rating (kVA)', 'percent genset load']]\n",
    "print(tabulate.tabulate(output_table, tablefmt='pipe', headers=output_table.columns))"
   ]
  },
  {
   "cell_type": "code",
   "execution_count": null,
   "metadata": {
    "collapsed": true
   },
   "outputs": [],
   "source": []
  }
 ],
 "metadata": {
  "kernelspec": {
   "display_name": "Python 3",
   "language": "python",
   "name": "python3"
  },
  "language_info": {
   "codemirror_mode": {
    "name": "ipython",
    "version": 3
   },
   "file_extension": ".py",
   "mimetype": "text/x-python",
   "name": "python",
   "nbconvert_exporter": "python",
   "pygments_lexer": "ipython3",
   "version": "3.6.1"
  },
  "widgets": {
   "state": {},
   "version": "1.1.2"
  }
 },
 "nbformat": 4,
 "nbformat_minor": 1
}
