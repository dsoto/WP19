{
 "cells": [
  {
   "cell_type": "markdown",
   "metadata": {},
   "source": [
    "This notebook is to prototype and develop code that will extract the messages from the raw files.\n",
    "These messages include power up, power down, and communication messages which can be valuable in determining the uptime on a grid.\n",
    "They are currently placed in the data file which makes it difficult to interpret as a tabular file."
   ]
  },
  {
   "cell_type": "code",
   "execution_count": 1,
   "metadata": {
    "collapsed": true
   },
   "outputs": [],
   "source": [
    "import pandas as pd\n",
    "import WP19_analysis"
   ]
  },
  {
   "cell_type": "code",
   "execution_count": 3,
   "metadata": {
    "collapsed": false
   },
   "outputs": [
    {
     "name": "stdout",
     "output_type": "stream",
     "text": [
      "ajau.csv\n",
      "Diesel_Data/raw_data/4. April/Data_Logs AJAU April 22 - 30.xls\n",
      "WARNING *** file size (3625288) not 512 + multiple of sector size (512)\n",
      "Diesel_Data/raw_data/5. May/Data_Logs AJAU MAY.xls\n",
      "Diesel_Data/raw_data/6. June/Data_Logs AJAU June.xls\n",
      "WARNING *** file size (13147260) not 512 + multiple of sector size (512)\n",
      "Diesel_Data/raw_data/7. July/Data_Logs AJAU July.xls\n",
      "WARNING *** file size (13790853) not 512 + multiple of sector size (512)\n",
      "Diesel_Data/raw_data/8. Agustus/Data_Logs Ajau Agustus.xls\n",
      "WARNING *** file size (12314552) not 512 + multiple of sector size (512)\n",
      "asei.csv\n",
      "Diesel_Data/raw_data/4. April/Data_Logs ASEI April 22 - 30.xls\n",
      "WARNING *** file size (3531439) not 512 + multiple of sector size (512)\n",
      "Diesel_Data/raw_data/5. May/Data_Logs ASEI MAY.xls\n",
      "Diesel_Data/raw_data/6. June/Data_Logs ASEI June.xls\n",
      "WARNING *** file size (12805177) not 512 + multiple of sector size (512)\n",
      "Diesel_Data/raw_data/7. July/Data_Logs ASEI July.xls\n",
      "atamali.csv\n",
      "Diesel_Data/raw_data/4. April/Data_Logs ATAMALI 24 - 30.xls\n",
      "WARNING *** file size (854876) not 512 + multiple of sector size (512)\n",
      "Diesel_Data/raw_data/5. May/Data_Logs ATAMALI MAY.xls\n",
      "WARNING *** file size (3493755) not 512 + multiple of sector size (512)\n",
      "Diesel_Data/raw_data/6. June/Data_Logs ATAMALI June.xls\n",
      "WARNING *** file size (1531924) not 512 + multiple of sector size (512)\n",
      "Diesel_Data/raw_data/7. July/Data_Logs ATAMALI July.xls\n",
      "WARNING *** file size (2705463) not 512 + multiple of sector size (512)\n",
      "Diesel_Data/raw_data/8. Agustus/Data_Logs Atamali Agustus.xls\n",
      "WARNING *** file size (2439980) not 512 + multiple of sector size (512)\n",
      "ayapo.csv\n",
      "Diesel_Data/raw_data/4. April/Data_Logs AYAPO April 22 - 30.xls\n",
      "WARNING *** file size (1049728) not 512 + multiple of sector size (512)\n",
      "Diesel_Data/raw_data/5. May/Data_Logs AYAPO MAY.xls\n",
      "Diesel_Data/raw_data/6. June/Data_Logs AYAPO June.xls\n",
      "WARNING *** file size (3296098) not 512 + multiple of sector size (512)\n",
      "Diesel_Data/raw_data/7. July/Data_Logs AYAPO July.xls\n",
      "WARNING *** file size (4025791) not 512 + multiple of sector size (512)\n",
      "Diesel_Data/raw_data/8. Agustus/Data_Logs Ayapo Agustus.xls\n",
      "WARNING *** file size (2858944) not 512 + multiple of sector size (512)\n",
      "kensio.csv\n",
      "Diesel_Data/raw_data/5. May/Data_Logs KENSIO MAY.xls\n",
      "WARNING *** file size (691081) not 512 + multiple of sector size (512)\n",
      "Diesel_Data/raw_data/6. June/Data_Logs KENSIO June.xls\n",
      "WARNING *** file size (988130) not 512 + multiple of sector size (512)\n",
      "Diesel_Data/raw_data/7. July/Data_Logs KENSIO July.xls\n",
      "WARNING *** file size (1265344) not 512 + multiple of sector size (512)\n",
      "Diesel_Data/raw_data/8. Agustus/Data_Logs Kensio Agustus.xls\n",
      "WARNING *** file size (1385249) not 512 + multiple of sector size (512)\n"
     ]
    }
   ],
   "source": [
    "# convert excel file to temporary csv file on disk\n",
    "prefix = 'Diesel_Data/raw_data/'\n",
    "for rfd in WP19_analysis.raw_file_data:\n",
    "    output_dfs = []\n",
    "    files = rfd['files']\n",
    "    skiprows = rfd['skiprows']\n",
    "    output_file = rfd['output_file']\n",
    "    print(output_file)\n",
    "    for f,sr in zip(files, skiprows):\n",
    "        print(prefix + f)\n",
    "        excel_data = pd.read_excel(prefix + f, skiprows=sr)\n",
    "        assert 'Timestamp' in excel_data.columns, 'check your skiprows, header not found'\n",
    "        excel_data.to_csv('temp.csv')\n",
    "\n",
    "        # remove messages from csv file string object\n",
    "        temp_csv = open('temp.csv')\n",
    "        file_string = ''\n",
    "        messages = 'date,index,message\\n'\n",
    "        omit_strings = ['Power Up', 'Communication Lost', 'Power Down', ',,,,,,,,,,,']\n",
    "        for line in temp_csv.readlines():\n",
    "            if not any(omit in line for omit in omit_strings):\n",
    "                file_string += line\n",
    "            else:\n",
    "                fields = line.split(',')\n",
    "                #import pdb;pdb.set_trace()\n",
    "                messages += ','.join((fields[1], fields[0], fields[3]))\n",
    "                messages += '\\n'\n",
    "\n",
    "        # read in string object to dataframe, sort and add to dataframe list\n",
    "        import io\n",
    "        message_data = pd.read_csv(io.StringIO(messages),\n",
    "                              index_col=0, \n",
    "                              parse_dates=[0])\n",
    "        message_data = message_data.sort_index()\n",
    "        output_dfs.append(message_data)\n",
    "\n",
    "    combined = pd.concat(output_dfs)\n",
    "    combined.to_csv(rfd['village_name'] + '-messages.csv')"
   ]
  },
  {
   "cell_type": "markdown",
   "metadata": {},
   "source": [
    "These are the MD5 hashes created on 21 June 2017 for the message files.\n",
    "\n",
    "    MD5 (ajau-messages.csv) = 641f05537199c2b0f018d9c8466ab0e1\n",
    "    MD5 (asei-messages.csv) = 307e1324a6be53113ae75f3403653df5\n",
    "    MD5 (atamali-messages.csv) = 2ebe8dd3556e9c1cba70c3a3e5c51023\n",
    "    MD5 (ayapo-messages.csv) = 0fecace21d41da147f5e3fb973f8c5db\n",
    "    MD5 (kensio-messages.csv) = a124f6a37949ecd1a50bb593d0880b03"
   ]
  },
  {
   "cell_type": "code",
   "execution_count": 4,
   "metadata": {
    "collapsed": false
   },
   "outputs": [
    {
     "name": "stdout",
     "output_type": "stream",
     "text": [
      "MD5 (ajau-messages.csv) = 641f05537199c2b0f018d9c8466ab0e1\n",
      "MD5 (asei-messages.csv) = 307e1324a6be53113ae75f3403653df5\n",
      "MD5 (atamali-messages.csv) = 2ebe8dd3556e9c1cba70c3a3e5c51023\n",
      "MD5 (ayapo-messages.csv) = 0fecace21d41da147f5e3fb973f8c5db\n",
      "MD5 (kensio-messages.csv) = a124f6a37949ecd1a50bb593d0880b03\n"
     ]
    }
   ],
   "source": [
    "for rfd in WP19_analysis.raw_file_data:\n",
    "    md5file = rfd['village_name'] + '-messages.csv'\n",
    "    !md5 {md5file}"
   ]
  },
  {
   "cell_type": "code",
   "execution_count": null,
   "metadata": {
    "collapsed": true
   },
   "outputs": [],
   "source": []
  }
 ],
 "metadata": {
  "kernelspec": {
   "display_name": "Python 3",
   "language": "python",
   "name": "python3"
  },
  "language_info": {
   "codemirror_mode": {
    "name": "ipython",
    "version": 3
   },
   "file_extension": ".py",
   "mimetype": "text/x-python",
   "name": "python",
   "nbconvert_exporter": "python",
   "pygments_lexer": "ipython3",
   "version": "3.4.5"
  }
 },
 "nbformat": 4,
 "nbformat_minor": 0
}
