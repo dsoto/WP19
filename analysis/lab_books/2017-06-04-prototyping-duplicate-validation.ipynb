{
 "cells": [
  {
   "cell_type": "markdown",
   "metadata": {},
   "source": [
    "This notebook is testing different ways to check for duplicate values in a column.\n",
    "My current list-based implementation appears to be hanging for large sets that have the fractional seconds removed.\n",
    "This is strange to me, but the mystery will have to remain for now."
   ]
  },
  {
   "cell_type": "code",
   "execution_count": 1,
   "metadata": {
    "collapsed": true
   },
   "outputs": [],
   "source": [
    "%matplotlib inline\n",
    "import pandas as pd\n",
    "import numpy as np\n",
    "import WP19_analysis as wpa\n",
    "import seaborn as sns\n",
    "import matplotlib.pyplot as plt"
   ]
  },
  {
   "cell_type": "markdown",
   "metadata": {},
   "source": [
    "These are using numpy and pandas."
   ]
  },
  {
   "cell_type": "code",
   "execution_count": 2,
   "metadata": {
    "collapsed": false
   },
   "outputs": [
    {
     "data": {
      "text/plain": [
       "False"
      ]
     },
     "execution_count": 2,
     "metadata": {},
     "output_type": "execute_result"
    }
   ],
   "source": [
    "energy = wpa.load_timeseries_file('asei-raw.csv')\n",
    "np.unique(energy.index.values).shape[0] == len(energy.index)"
   ]
  },
  {
   "cell_type": "code",
   "execution_count": 3,
   "metadata": {
    "collapsed": false
   },
   "outputs": [
    {
     "data": {
      "text/plain": [
       "True"
      ]
     },
     "execution_count": 3,
     "metadata": {},
     "output_type": "execute_result"
    }
   ],
   "source": [
    "energy = wpa.load_timeseries_file('asei-clean.csv')\n",
    "np.unique(energy.index.values).shape[0] == len(energy.index)"
   ]
  },
  {
   "cell_type": "markdown",
   "metadata": {},
   "source": [
    "This is an implementation using pandas."
   ]
  },
  {
   "cell_type": "code",
   "execution_count": 4,
   "metadata": {
    "collapsed": false
   },
   "outputs": [
    {
     "data": {
      "text/plain": [
       "False"
      ]
     },
     "execution_count": 4,
     "metadata": {},
     "output_type": "execute_result"
    }
   ],
   "source": [
    "energy = wpa.load_timeseries_file('asei-raw.csv')\n",
    "energy.index.is_unique"
   ]
  },
  {
   "cell_type": "code",
   "execution_count": 5,
   "metadata": {
    "collapsed": false
   },
   "outputs": [
    {
     "data": {
      "text/plain": [
       "True"
      ]
     },
     "execution_count": 5,
     "metadata": {},
     "output_type": "execute_result"
    }
   ],
   "source": [
    "energy = wpa.load_timeseries_file('asei-clean.csv')\n",
    "energy.index.is_unique"
   ]
  },
  {
   "cell_type": "markdown",
   "metadata": {},
   "source": [
    "I'd like to do an implementation in pure python that works for larger data files.  It looks like a set-based implementation can handle the larger files even though the logic isn't that different.  I'd speculate that member testing is higher performance for a set.\n",
    "\n",
    "I have put this new routine in the `WP19_analysis.py` file and will use it for validation."
   ]
  },
  {
   "cell_type": "code",
   "execution_count": 6,
   "metadata": {
    "collapsed": false
   },
   "outputs": [],
   "source": [
    "def csv_col_duplicates(filename, col=1, skiprows=1):\n",
    "    with open(filename) as f:\n",
    "        existing_values = []\n",
    "        for line in f.readlines()[skiprows:]:\n",
    "            vals = line.strip().split(',')\n",
    "            if vals[col] not in existing_values:\n",
    "                existing_values.append(vals[col])\n",
    "            else:\n",
    "                return line.strip()\n",
    "            \n",
    "def csv_col_duplicates_set(filename, col=1, skiprows=1):\n",
    "    with open(filename) as f:\n",
    "        unique = set()\n",
    "        for line in f.readlines()[skiprows:]:\n",
    "            vals = line.strip().split(',')\n",
    "            if vals[col] in unique:\n",
    "                return line.strip()\n",
    "            else:\n",
    "                unique.add(vals[col])\n",
    "        return 0    "
   ]
  },
  {
   "cell_type": "code",
   "execution_count": 7,
   "metadata": {
    "collapsed": false
   },
   "outputs": [
    {
     "data": {
      "text/plain": [
       "'2015-04-22 17:22:00.001,10469,,6,232.1,232.7,232.1,6.6,1.76,18.78,,16.633,1.0'"
      ]
     },
     "execution_count": 7,
     "metadata": {},
     "output_type": "execute_result"
    }
   ],
   "source": [
    "filename = 'asei-raw.csv'\n",
    "csv_col_duplicates(filename, col=0)"
   ]
  },
  {
   "cell_type": "code",
   "execution_count": 8,
   "metadata": {
    "collapsed": false
   },
   "outputs": [
    {
     "data": {
      "text/plain": [
       "'2015-04-22 17:22:00.001,10469,,6,232.1,232.7,232.1,6.6,1.76,18.78,,16.633,1.0'"
      ]
     },
     "execution_count": 8,
     "metadata": {},
     "output_type": "execute_result"
    }
   ],
   "source": [
    "filename = 'asei-raw.csv'\n",
    "csv_col_duplicates_set(filename, col=0)"
   ]
  },
  {
   "cell_type": "code",
   "execution_count": 9,
   "metadata": {
    "collapsed": false
   },
   "outputs": [
    {
     "data": {
      "text/plain": [
       "0"
      ]
     },
     "execution_count": 9,
     "metadata": {},
     "output_type": "execute_result"
    }
   ],
   "source": [
    "filename = 'asei-clean.csv'\n",
    "csv_col_duplicates_set(filename, col=0)"
   ]
  },
  {
   "cell_type": "code",
   "execution_count": 10,
   "metadata": {
    "collapsed": false
   },
   "outputs": [
    {
     "data": {
      "text/plain": [
       "0"
      ]
     },
     "execution_count": 10,
     "metadata": {},
     "output_type": "execute_result"
    }
   ],
   "source": [
    "filename = 'ajau-clean.csv'\n",
    "csv_col_duplicates_set(filename, col=0)"
   ]
  },
  {
   "cell_type": "code",
   "execution_count": null,
   "metadata": {
    "collapsed": false
   },
   "outputs": [],
   "source": []
  }
 ],
 "metadata": {
  "kernelspec": {
   "display_name": "Python 3",
   "language": "python",
   "name": "python3"
  },
  "language_info": {
   "codemirror_mode": {
    "name": "ipython",
    "version": 3
   },
   "file_extension": ".py",
   "mimetype": "text/x-python",
   "name": "python",
   "nbconvert_exporter": "python",
   "pygments_lexer": "ipython3",
   "version": "3.4.5"
  },
  "widgets": {
   "state": {},
   "version": "1.1.2"
  }
 },
 "nbformat": 4,
 "nbformat_minor": 0
}
